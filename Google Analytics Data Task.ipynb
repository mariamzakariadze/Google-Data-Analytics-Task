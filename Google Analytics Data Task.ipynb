{
 "cells": [
  {
   "cell_type": "code",
   "execution_count": 597,
   "id": "a91ebbc0",
   "metadata": {},
   "outputs": [],
   "source": [
    "import pandas as pd\n",
    "import os\n",
    "import matplotlib.pyplot as plt\n",
    "import seaborn as sns\n",
    "import plotly.express as px\n",
    "from datetime import datetime\n",
    "from statsmodels.stats.outliers_influence import variance_inflation_factor\n",
    "import warnings\n",
    "from sklearn.linear_model import Lasso\n",
    "from sklearn.model_selection import train_test_split, GridSearchCV\n",
    "from sklearn.linear_model import LinearRegression\n",
    "from sklearn.linear_model import LogisticRegression\n",
    "from sklearn.feature_selection import SelectFromModel\n",
    "from sklearn.preprocessing import StandardScaler\n",
    "from sklearn import metrics\n",
    "import numpy as np\n",
    "warnings.filterwarnings('ignore')"
   ]
  },
  {
   "cell_type": "code",
   "execution_count": 4,
   "id": "b77d2c89",
   "metadata": {},
   "outputs": [
    {
     "data": {
      "text/plain": [
       "'C:\\\\Users\\\\v-mariamz'"
      ]
     },
     "execution_count": 4,
     "metadata": {},
     "output_type": "execute_result"
    }
   ],
   "source": [
    "os.getcwd()"
   ]
  },
  {
   "cell_type": "code",
   "execution_count": 6,
   "id": "48ab9537",
   "metadata": {
    "scrolled": true
   },
   "outputs": [
    {
     "data": {
      "text/html": [
       "<div>\n",
       "<style scoped>\n",
       "    .dataframe tbody tr th:only-of-type {\n",
       "        vertical-align: middle;\n",
       "    }\n",
       "\n",
       "    .dataframe tbody tr th {\n",
       "        vertical-align: top;\n",
       "    }\n",
       "\n",
       "    .dataframe thead th {\n",
       "        text-align: right;\n",
       "    }\n",
       "</style>\n",
       "<table border=\"1\" class=\"dataframe\">\n",
       "  <thead>\n",
       "    <tr style=\"text-align: right;\">\n",
       "      <th></th>\n",
       "      <th>channelGrouping</th>\n",
       "      <th>date</th>\n",
       "      <th>fullVisitorId</th>\n",
       "      <th>sessionId</th>\n",
       "      <th>visitId</th>\n",
       "      <th>visitNumber</th>\n",
       "      <th>visitStartTime</th>\n",
       "      <th>hits</th>\n",
       "      <th>pageviews</th>\n",
       "      <th>transactionRevenue</th>\n",
       "      <th>...</th>\n",
       "      <th>isMobile</th>\n",
       "      <th>continent</th>\n",
       "      <th>subContinent</th>\n",
       "      <th>country</th>\n",
       "      <th>campaign</th>\n",
       "      <th>source</th>\n",
       "      <th>medium</th>\n",
       "      <th>transactionRevenueBias</th>\n",
       "      <th>transactionRevenueLog</th>\n",
       "      <th>transactionRevenueBinom</th>\n",
       "    </tr>\n",
       "  </thead>\n",
       "  <tbody>\n",
       "    <tr>\n",
       "      <th>0</th>\n",
       "      <td>Affiliates</td>\n",
       "      <td>2016-08-03</td>\n",
       "      <td>8.112932e+18</td>\n",
       "      <td>8112931553428033220_1470276675</td>\n",
       "      <td>1470276675</td>\n",
       "      <td>1</td>\n",
       "      <td>1470276675</td>\n",
       "      <td>1</td>\n",
       "      <td>1</td>\n",
       "      <td>0.0</td>\n",
       "      <td>...</td>\n",
       "      <td>false</td>\n",
       "      <td>Oceania</td>\n",
       "      <td>Australasia</td>\n",
       "      <td>Australia</td>\n",
       "      <td>Data Share Promo</td>\n",
       "      <td>Partners</td>\n",
       "      <td>affiliate</td>\n",
       "      <td>1</td>\n",
       "      <td>0.0</td>\n",
       "      <td>0</td>\n",
       "    </tr>\n",
       "    <tr>\n",
       "      <th>1</th>\n",
       "      <td>Affiliates</td>\n",
       "      <td>2016-08-04</td>\n",
       "      <td>1.293288e+18</td>\n",
       "      <td>1293287886935508161_1470379113</td>\n",
       "      <td>1470379113</td>\n",
       "      <td>3</td>\n",
       "      <td>1470379113</td>\n",
       "      <td>2</td>\n",
       "      <td>2</td>\n",
       "      <td>0.0</td>\n",
       "      <td>...</td>\n",
       "      <td>false</td>\n",
       "      <td>Asia</td>\n",
       "      <td>Eastern Asia</td>\n",
       "      <td>Japan</td>\n",
       "      <td>Data Share Promo</td>\n",
       "      <td>Partners</td>\n",
       "      <td>affiliate</td>\n",
       "      <td>1</td>\n",
       "      <td>0.0</td>\n",
       "      <td>0</td>\n",
       "    </tr>\n",
       "    <tr>\n",
       "      <th>2</th>\n",
       "      <td>Affiliates</td>\n",
       "      <td>2016-08-04</td>\n",
       "      <td>5.233172e+18</td>\n",
       "      <td>5233171936454968672_1470352571</td>\n",
       "      <td>1470352571</td>\n",
       "      <td>1</td>\n",
       "      <td>1470352571</td>\n",
       "      <td>1</td>\n",
       "      <td>1</td>\n",
       "      <td>0.0</td>\n",
       "      <td>...</td>\n",
       "      <td>true</td>\n",
       "      <td>Europe</td>\n",
       "      <td>Eastern Europe</td>\n",
       "      <td>Ukraine</td>\n",
       "      <td>Data Share Promo</td>\n",
       "      <td>Partners</td>\n",
       "      <td>affiliate</td>\n",
       "      <td>1</td>\n",
       "      <td>0.0</td>\n",
       "      <td>0</td>\n",
       "    </tr>\n",
       "    <tr>\n",
       "      <th>3</th>\n",
       "      <td>Affiliates</td>\n",
       "      <td>2016-08-04</td>\n",
       "      <td>7.553271e+18</td>\n",
       "      <td>7553270564107563637_1470324925</td>\n",
       "      <td>1470324925</td>\n",
       "      <td>1</td>\n",
       "      <td>1470324925</td>\n",
       "      <td>5</td>\n",
       "      <td>5</td>\n",
       "      <td>0.0</td>\n",
       "      <td>...</td>\n",
       "      <td>false</td>\n",
       "      <td>Europe</td>\n",
       "      <td>Northern Europe</td>\n",
       "      <td>United Kingdom</td>\n",
       "      <td>Data Share Promo</td>\n",
       "      <td>Partners</td>\n",
       "      <td>affiliate</td>\n",
       "      <td>1</td>\n",
       "      <td>0.0</td>\n",
       "      <td>0</td>\n",
       "    </tr>\n",
       "    <tr>\n",
       "      <th>4</th>\n",
       "      <td>Affiliates</td>\n",
       "      <td>2016-08-04</td>\n",
       "      <td>7.942509e+18</td>\n",
       "      <td>7942508630272684505_1470323139</td>\n",
       "      <td>1470323139</td>\n",
       "      <td>1</td>\n",
       "      <td>1470323139</td>\n",
       "      <td>1</td>\n",
       "      <td>1</td>\n",
       "      <td>0.0</td>\n",
       "      <td>...</td>\n",
       "      <td>false</td>\n",
       "      <td>Europe</td>\n",
       "      <td>Southern Europe</td>\n",
       "      <td>Italy</td>\n",
       "      <td>Data Share Promo</td>\n",
       "      <td>Partners</td>\n",
       "      <td>affiliate</td>\n",
       "      <td>1</td>\n",
       "      <td>0.0</td>\n",
       "      <td>0</td>\n",
       "    </tr>\n",
       "    <tr>\n",
       "      <th>...</th>\n",
       "      <td>...</td>\n",
       "      <td>...</td>\n",
       "      <td>...</td>\n",
       "      <td>...</td>\n",
       "      <td>...</td>\n",
       "      <td>...</td>\n",
       "      <td>...</td>\n",
       "      <td>...</td>\n",
       "      <td>...</td>\n",
       "      <td>...</td>\n",
       "      <td>...</td>\n",
       "      <td>...</td>\n",
       "      <td>...</td>\n",
       "      <td>...</td>\n",
       "      <td>...</td>\n",
       "      <td>...</td>\n",
       "      <td>...</td>\n",
       "      <td>...</td>\n",
       "      <td>...</td>\n",
       "      <td>...</td>\n",
       "      <td>...</td>\n",
       "    </tr>\n",
       "    <tr>\n",
       "      <th>23025</th>\n",
       "      <td>Social</td>\n",
       "      <td>2017-07-31</td>\n",
       "      <td>2.205251e+17</td>\n",
       "      <td>220525088054127012_1501515340</td>\n",
       "      <td>1501515340</td>\n",
       "      <td>1</td>\n",
       "      <td>1501515340</td>\n",
       "      <td>7</td>\n",
       "      <td>7</td>\n",
       "      <td>0.0</td>\n",
       "      <td>...</td>\n",
       "      <td>false</td>\n",
       "      <td>Europe</td>\n",
       "      <td>Southern Europe</td>\n",
       "      <td>Serbia</td>\n",
       "      <td>not set</td>\n",
       "      <td>youtubecom</td>\n",
       "      <td>referral</td>\n",
       "      <td>1</td>\n",
       "      <td>0.0</td>\n",
       "      <td>0</td>\n",
       "    </tr>\n",
       "    <tr>\n",
       "      <th>23026</th>\n",
       "      <td>Social</td>\n",
       "      <td>2017-07-31</td>\n",
       "      <td>1.437044e+18</td>\n",
       "      <td>1437044458708551234_1501513186</td>\n",
       "      <td>1501513186</td>\n",
       "      <td>1</td>\n",
       "      <td>1501513186</td>\n",
       "      <td>1</td>\n",
       "      <td>1</td>\n",
       "      <td>0.0</td>\n",
       "      <td>...</td>\n",
       "      <td>false</td>\n",
       "      <td>Europe</td>\n",
       "      <td>Western Europe</td>\n",
       "      <td>Germany</td>\n",
       "      <td>not set</td>\n",
       "      <td>youtubecom</td>\n",
       "      <td>referral</td>\n",
       "      <td>1</td>\n",
       "      <td>0.0</td>\n",
       "      <td>0</td>\n",
       "    </tr>\n",
       "    <tr>\n",
       "      <th>23027</th>\n",
       "      <td>Social</td>\n",
       "      <td>2017-07-31</td>\n",
       "      <td>7.707399e+18</td>\n",
       "      <td>7707398618444494456_1501553876</td>\n",
       "      <td>1501553876</td>\n",
       "      <td>1</td>\n",
       "      <td>1501553876</td>\n",
       "      <td>2</td>\n",
       "      <td>2</td>\n",
       "      <td>0.0</td>\n",
       "      <td>...</td>\n",
       "      <td>false</td>\n",
       "      <td>Americas</td>\n",
       "      <td>Central America</td>\n",
       "      <td>Mexico</td>\n",
       "      <td>not set</td>\n",
       "      <td>youtubecom</td>\n",
       "      <td>referral</td>\n",
       "      <td>1</td>\n",
       "      <td>0.0</td>\n",
       "      <td>0</td>\n",
       "    </tr>\n",
       "    <tr>\n",
       "      <th>23028</th>\n",
       "      <td>Social</td>\n",
       "      <td>2017-07-31</td>\n",
       "      <td>7.738385e+18</td>\n",
       "      <td>7738384993815386906_1501538396</td>\n",
       "      <td>1501538396</td>\n",
       "      <td>1</td>\n",
       "      <td>1501538396</td>\n",
       "      <td>2</td>\n",
       "      <td>2</td>\n",
       "      <td>0.0</td>\n",
       "      <td>...</td>\n",
       "      <td>false</td>\n",
       "      <td>Americas</td>\n",
       "      <td>Central America</td>\n",
       "      <td>Mexico</td>\n",
       "      <td>not set</td>\n",
       "      <td>youtubecom</td>\n",
       "      <td>referral</td>\n",
       "      <td>1</td>\n",
       "      <td>0.0</td>\n",
       "      <td>0</td>\n",
       "    </tr>\n",
       "    <tr>\n",
       "      <th>23029</th>\n",
       "      <td>Social</td>\n",
       "      <td>2017-08-01</td>\n",
       "      <td>1.099289e+18</td>\n",
       "      <td>1099289184301022773_1501598378</td>\n",
       "      <td>1501598378</td>\n",
       "      <td>1</td>\n",
       "      <td>1501598378</td>\n",
       "      <td>1</td>\n",
       "      <td>1</td>\n",
       "      <td>0.0</td>\n",
       "      <td>...</td>\n",
       "      <td>false</td>\n",
       "      <td>Europe</td>\n",
       "      <td>Western Europe</td>\n",
       "      <td>Netherlands</td>\n",
       "      <td>not set</td>\n",
       "      <td>youtubecom</td>\n",
       "      <td>referral</td>\n",
       "      <td>1</td>\n",
       "      <td>0.0</td>\n",
       "      <td>0</td>\n",
       "    </tr>\n",
       "  </tbody>\n",
       "</table>\n",
       "<p>23030 rows × 22 columns</p>\n",
       "</div>"
      ],
      "text/plain": [
       "      channelGrouping        date  fullVisitorId  \\\n",
       "0          Affiliates  2016-08-03   8.112932e+18   \n",
       "1          Affiliates  2016-08-04   1.293288e+18   \n",
       "2          Affiliates  2016-08-04   5.233172e+18   \n",
       "3          Affiliates  2016-08-04   7.553271e+18   \n",
       "4          Affiliates  2016-08-04   7.942509e+18   \n",
       "...               ...         ...            ...   \n",
       "23025          Social  2017-07-31   2.205251e+17   \n",
       "23026          Social  2017-07-31   1.437044e+18   \n",
       "23027          Social  2017-07-31   7.707399e+18   \n",
       "23028          Social  2017-07-31   7.738385e+18   \n",
       "23029          Social  2017-08-01   1.099289e+18   \n",
       "\n",
       "                            sessionId     visitId  visitNumber  \\\n",
       "0      8112931553428033220_1470276675  1470276675            1   \n",
       "1      1293287886935508161_1470379113  1470379113            3   \n",
       "2      5233171936454968672_1470352571  1470352571            1   \n",
       "3      7553270564107563637_1470324925  1470324925            1   \n",
       "4      7942508630272684505_1470323139  1470323139            1   \n",
       "...                               ...         ...          ...   \n",
       "23025   220525088054127012_1501515340  1501515340            1   \n",
       "23026  1437044458708551234_1501513186  1501513186            1   \n",
       "23027  7707398618444494456_1501553876  1501553876            1   \n",
       "23028  7738384993815386906_1501538396  1501538396            1   \n",
       "23029  1099289184301022773_1501598378  1501598378            1   \n",
       "\n",
       "       visitStartTime  hits  pageviews  transactionRevenue  ... isMobile  \\\n",
       "0          1470276675     1          1                 0.0  ...   false    \n",
       "1          1470379113     2          2                 0.0  ...   false    \n",
       "2          1470352571     1          1                 0.0  ...    true    \n",
       "3          1470324925     5          5                 0.0  ...   false    \n",
       "4          1470323139     1          1                 0.0  ...   false    \n",
       "...               ...   ...        ...                 ...  ...      ...   \n",
       "23025      1501515340     7          7                 0.0  ...   false    \n",
       "23026      1501513186     1          1                 0.0  ...   false    \n",
       "23027      1501553876     2          2                 0.0  ...   false    \n",
       "23028      1501538396     2          2                 0.0  ...   false    \n",
       "23029      1501598378     1          1                 0.0  ...   false    \n",
       "\n",
       "      continent     subContinent         country          campaign  \\\n",
       "0       Oceania      Australasia       Australia  Data Share Promo   \n",
       "1          Asia     Eastern Asia           Japan  Data Share Promo   \n",
       "2        Europe   Eastern Europe         Ukraine  Data Share Promo   \n",
       "3        Europe  Northern Europe  United Kingdom  Data Share Promo   \n",
       "4        Europe  Southern Europe           Italy  Data Share Promo   \n",
       "...         ...              ...             ...               ...   \n",
       "23025    Europe  Southern Europe          Serbia           not set   \n",
       "23026    Europe   Western Europe         Germany           not set   \n",
       "23027  Americas  Central America          Mexico           not set   \n",
       "23028  Americas  Central America          Mexico           not set   \n",
       "23029    Europe   Western Europe     Netherlands           not set   \n",
       "\n",
       "           source     medium transactionRevenueBias transactionRevenueLog  \\\n",
       "0        Partners  affiliate                      1                   0.0   \n",
       "1        Partners  affiliate                      1                   0.0   \n",
       "2        Partners  affiliate                      1                   0.0   \n",
       "3        Partners  affiliate                      1                   0.0   \n",
       "4        Partners  affiliate                      1                   0.0   \n",
       "...           ...        ...                    ...                   ...   \n",
       "23025  youtubecom   referral                      1                   0.0   \n",
       "23026  youtubecom   referral                      1                   0.0   \n",
       "23027  youtubecom   referral                      1                   0.0   \n",
       "23028  youtubecom   referral                      1                   0.0   \n",
       "23029  youtubecom   referral                      1                   0.0   \n",
       "\n",
       "       transactionRevenueBinom  \n",
       "0                            0  \n",
       "1                            0  \n",
       "2                            0  \n",
       "3                            0  \n",
       "4                            0  \n",
       "...                        ...  \n",
       "23025                        0  \n",
       "23026                        0  \n",
       "23027                        0  \n",
       "23028                        0  \n",
       "23029                        0  \n",
       "\n",
       "[23030 rows x 22 columns]"
      ]
     },
     "execution_count": 6,
     "metadata": {},
     "output_type": "execute_result"
    }
   ],
   "source": [
    "df = pd.read_csv(r\"C:\\Users\\v-mariamz\\Downloads\\test_assignment\\dat_mariam_preprocessed.csv\")\n",
    "df"
   ]
  },
  {
   "cell_type": "markdown",
   "id": "25eea0ef",
   "metadata": {},
   "source": [
    "## Univariate Analysis"
   ]
  },
  {
   "cell_type": "code",
   "execution_count": 15,
   "id": "5db475f3",
   "metadata": {
    "scrolled": false
   },
   "outputs": [
    {
     "data": {
      "text/plain": [
       "Index(['channelGrouping', 'date', 'fullVisitorId', 'sessionId', 'visitId',\n",
       "       'visitNumber', 'visitStartTime', 'hits', 'pageviews',\n",
       "       'transactionRevenue', 'browser', 'operatingSystem', 'isMobile',\n",
       "       'continent', 'subContinent', 'country', 'campaign', 'source', 'medium',\n",
       "       'transactionRevenueBias', 'transactionRevenueLog',\n",
       "       'transactionRevenueBinom'],\n",
       "      dtype='object')"
      ]
     },
     "execution_count": 15,
     "metadata": {},
     "output_type": "execute_result"
    }
   ],
   "source": [
    "df.columns"
   ]
  },
  {
   "cell_type": "code",
   "execution_count": 390,
   "id": "ae6792ad",
   "metadata": {},
   "outputs": [],
   "source": [
    "## Examining value counts of different categorical variables\n",
    "df['channelGrouping'].value_counts()\n",
    "df['browser'].value_counts()\n",
    "df['continent'].value_counts()\n",
    "df['subContinent'].value_counts()\n",
    "df['operatingSystem'].value_counts()\n",
    "df['country'].value_counts()\n",
    "df['campaign'].value_counts()\n",
    "df['source'].value_counts()\n",
    "df['medium'].value_counts()"
   ]
  },
  {
   "cell_type": "code",
   "execution_count": 387,
   "id": "08bc9e15",
   "metadata": {},
   "outputs": [],
   "source": [
    "categorical = df[['channelGrouping', 'browser', 'operatingSystem',\n",
    "       'continent', 'subContinent', 'campaign','medium']]"
   ]
  },
  {
   "cell_type": "code",
   "execution_count": 388,
   "id": "7b1c96d8",
   "metadata": {
    "scrolled": false
   },
   "outputs": [
    {
     "name": "stdout",
     "output_type": "stream",
     "text": [
      "Graph for channelGrouping: total = 8\n"
     ]
    },
    {
     "data": {
      "image/png": "[encoded data removed]",
      "text/plain": [
       "<Figure size 432x288 with 1 Axes>"
      ]
     },
     "metadata": {
      "needs_background": "light"
     },
     "output_type": "display_data"
    },
    {
     "name": "stdout",
     "output_type": "stream",
     "text": [
      "Graph for browser: total = 22\n"
     ]
    },
    {
     "data": {
      "image/png": "[encoded data removed]",
      "text/plain": [
       "<Figure size 432x288 with 1 Axes>"
      ]
     },
     "metadata": {
      "needs_background": "light"
     },
     "output_type": "display_data"
    },
    {
     "name": "stdout",
     "output_type": "stream",
     "text": [
      "Graph for operatingSystem: total = 15\n"
     ]
    },
    {
     "data": {
      "image/png": "[encoded data removed]",
      "text/plain": [
       "<Figure size 432x288 with 1 Axes>"
      ]
     },
     "metadata": {
      "needs_background": "light"
     },
     "output_type": "display_data"
    },
    {
     "name": "stdout",
     "output_type": "stream",
     "text": [
      "Graph for continent: total = 6\n"
     ]
    },
    {
     "data": {
      "image/png": "[encoded data removed]",
      "text/plain": [
       "<Figure size 432x288 with 1 Axes>"
      ]
     },
     "metadata": {
      "needs_background": "light"
     },
     "output_type": "display_data"
    },
    {
     "name": "stdout",
     "output_type": "stream",
     "text": [
      "Graph for subContinent: total = 22\n"
     ]
    },
    {
     "data": {
      "image/png": "[encoded data removed]",
      "text/plain": [
       "<Figure size 432x288 with 1 Axes>"
      ]
     },
     "metadata": {
      "needs_background": "light"
     },
     "output_type": "display_data"
    },
    {
     "name": "stdout",
     "output_type": "stream",
     "text": [
      "Graph for campaign: total = 8\n"
     ]
    },
    {
     "data": {
      "image/png": "[encoded data removed]",
      "text/plain": [
       "<Figure size 432x288 with 1 Axes>"
      ]
     },
     "metadata": {
      "needs_background": "light"
     },
     "output_type": "display_data"
    },
    {
     "name": "stdout",
     "output_type": "stream",
     "text": [
      "Graph for medium: total = 7\n"
     ]
    },
    {
     "data": {
      "image/png": "[encoded data removed]",
      "text/plain": [
       "<Figure size 432x288 with 1 Axes>"
      ]
     },
     "metadata": {
      "needs_background": "light"
     },
     "output_type": "display_data"
    }
   ],
   "source": [
    "## Plotting categorical columns \n",
    "for i in categorical.columns:\n",
    "    vc = categorical[i].value_counts()\n",
    "    print(\"Graph for %s: total = %d\" % (i, len(vc)))\n",
    "    chart = sns.barplot(x=vc.index, y=vc)\n",
    "    chart.set_xticklabels(chart.get_xticklabels(), rotation=90)\n",
    "    plt.show()"
   ]
  },
  {
   "cell_type": "code",
   "execution_count": 95,
   "id": "b1f5584a",
   "metadata": {},
   "outputs": [
    {
     "data": {
      "text/plain": [
       "<AxesSubplot:ylabel='Density'>"
      ]
     },
     "execution_count": 95,
     "metadata": {},
     "output_type": "execute_result"
    },
    {
     "data": {
      "image/png": "[encoded data removed]",
      "text/plain": [
       "<Figure size 432x288 with 1 Axes>"
      ]
     },
     "metadata": {
      "needs_background": "light"
     },
     "output_type": "display_data"
    }
   ],
   "source": [
    "df['pageviews'].plot.density()"
   ]
  },
  {
   "cell_type": "code",
   "execution_count": 201,
   "id": "d7456a15",
   "metadata": {},
   "outputs": [],
   "source": [
    "## Transforming the date variable and extracting day,weekday,month and year \n",
    "def date_decompose(df):\n",
    "    df['date2'] = pd.to_datetime(df[\"date\"])\n",
    "    df[\"weekday\"] = df['date'].dt.weekday \n",
    "    df[\"day\"] = df['date'].dt.day \n",
    "    df[\"month\"] = df['date'].dt.month \n",
    "    df[\"year\"] = df['date'].dt.year \n",
    "    df['visitHour'] = (df['visitStartTime'].apply(lambda x: str(datetime.fromtimestamp(x).hour))).astype(int)\n",
    "    return df\n",
    "date_decompose(df)\n",
    "df.drop(columns = 'date',inplace = True)\n",
    "df.rename(columns = {'date2':'date'},inplace = True)"
   ]
  },
  {
   "cell_type": "code",
   "execution_count": 225,
   "id": "bf5af0c3",
   "metadata": {},
   "outputs": [
    {
     "data": {
      "text/html": [
       "<div>\n",
       "<style scoped>\n",
       "    .dataframe tbody tr th:only-of-type {\n",
       "        vertical-align: middle;\n",
       "    }\n",
       "\n",
       "    .dataframe tbody tr th {\n",
       "        vertical-align: top;\n",
       "    }\n",
       "\n",
       "    .dataframe thead th {\n",
       "        text-align: right;\n",
       "    }\n",
       "</style>\n",
       "<table border=\"1\" class=\"dataframe\">\n",
       "  <thead>\n",
       "    <tr style=\"text-align: right;\">\n",
       "      <th></th>\n",
       "      <th>weekday</th>\n",
       "      <th>day</th>\n",
       "      <th>month</th>\n",
       "      <th>year</th>\n",
       "      <th>visitHour</th>\n",
       "    </tr>\n",
       "  </thead>\n",
       "  <tbody>\n",
       "    <tr>\n",
       "      <th>0</th>\n",
       "      <td>2</td>\n",
       "      <td>3</td>\n",
       "      <td>8</td>\n",
       "      <td>2016</td>\n",
       "      <td>6</td>\n",
       "    </tr>\n",
       "    <tr>\n",
       "      <th>1</th>\n",
       "      <td>3</td>\n",
       "      <td>4</td>\n",
       "      <td>8</td>\n",
       "      <td>2016</td>\n",
       "      <td>10</td>\n",
       "    </tr>\n",
       "    <tr>\n",
       "      <th>2</th>\n",
       "      <td>3</td>\n",
       "      <td>4</td>\n",
       "      <td>8</td>\n",
       "      <td>2016</td>\n",
       "      <td>3</td>\n",
       "    </tr>\n",
       "    <tr>\n",
       "      <th>3</th>\n",
       "      <td>3</td>\n",
       "      <td>4</td>\n",
       "      <td>8</td>\n",
       "      <td>2016</td>\n",
       "      <td>19</td>\n",
       "    </tr>\n",
       "    <tr>\n",
       "      <th>4</th>\n",
       "      <td>3</td>\n",
       "      <td>4</td>\n",
       "      <td>8</td>\n",
       "      <td>2016</td>\n",
       "      <td>19</td>\n",
       "    </tr>\n",
       "    <tr>\n",
       "      <th>...</th>\n",
       "      <td>...</td>\n",
       "      <td>...</td>\n",
       "      <td>...</td>\n",
       "      <td>...</td>\n",
       "      <td>...</td>\n",
       "    </tr>\n",
       "    <tr>\n",
       "      <th>23025</th>\n",
       "      <td>0</td>\n",
       "      <td>31</td>\n",
       "      <td>7</td>\n",
       "      <td>2017</td>\n",
       "      <td>19</td>\n",
       "    </tr>\n",
       "    <tr>\n",
       "      <th>23026</th>\n",
       "      <td>0</td>\n",
       "      <td>31</td>\n",
       "      <td>7</td>\n",
       "      <td>2017</td>\n",
       "      <td>18</td>\n",
       "    </tr>\n",
       "    <tr>\n",
       "      <th>23027</th>\n",
       "      <td>0</td>\n",
       "      <td>31</td>\n",
       "      <td>7</td>\n",
       "      <td>2017</td>\n",
       "      <td>6</td>\n",
       "    </tr>\n",
       "    <tr>\n",
       "      <th>23028</th>\n",
       "      <td>0</td>\n",
       "      <td>31</td>\n",
       "      <td>7</td>\n",
       "      <td>2017</td>\n",
       "      <td>1</td>\n",
       "    </tr>\n",
       "    <tr>\n",
       "      <th>23029</th>\n",
       "      <td>1</td>\n",
       "      <td>1</td>\n",
       "      <td>8</td>\n",
       "      <td>2017</td>\n",
       "      <td>18</td>\n",
       "    </tr>\n",
       "  </tbody>\n",
       "</table>\n",
       "<p>23030 rows × 5 columns</p>\n",
       "</div>"
      ],
      "text/plain": [
       "       weekday  day  month  year  visitHour\n",
       "0            2    3      8  2016          6\n",
       "1            3    4      8  2016         10\n",
       "2            3    4      8  2016          3\n",
       "3            3    4      8  2016         19\n",
       "4            3    4      8  2016         19\n",
       "...        ...  ...    ...   ...        ...\n",
       "23025        0   31      7  2017         19\n",
       "23026        0   31      7  2017         18\n",
       "23027        0   31      7  2017          6\n",
       "23028        0   31      7  2017          1\n",
       "23029        1    1      8  2017         18\n",
       "\n",
       "[23030 rows x 5 columns]"
      ]
     },
     "execution_count": 225,
     "metadata": {},
     "output_type": "execute_result"
    }
   ],
   "source": [
    "df_dates = df[['weekday', 'day', 'month', 'year',\n",
    "       'visitHour']]\n",
    "df_dates"
   ]
  },
  {
   "cell_type": "code",
   "execution_count": 257,
   "id": "30826036",
   "metadata": {
    "scrolled": false
   },
   "outputs": [
    {
     "data": {
      "text/plain": [
       "<seaborn.axisgrid.FacetGrid at 0x22096aa3910>"
      ]
     },
     "execution_count": 257,
     "metadata": {},
     "output_type": "execute_result"
    },
    {
     "data": {
      "image/png": "[encoded data removed]",
      "text/plain": [
       "<Figure size 360x360 with 1 Axes>"
      ]
     },
     "metadata": {
      "needs_background": "light"
     },
     "output_type": "display_data"
    },
    {
     "data": {
      "image/png": "[encoded data removed]",
      "text/plain": [
       "<Figure size 360x360 with 1 Axes>"
      ]
     },
     "metadata": {
      "needs_background": "light"
     },
     "output_type": "display_data"
    },
    {
     "data": {
      "image/png": "[encoded data removed]",
      "text/plain": [
       "<Figure size 360x360 with 1 Axes>"
      ]
     },
     "metadata": {
      "needs_background": "light"
     },
     "output_type": "display_data"
    },
    {
     "data": {
      "image/png": "[encoded data removed]",
      "text/plain": [
       "<Figure size 360x360 with 1 Axes>"
      ]
     },
     "metadata": {
      "needs_background": "light"
     },
     "output_type": "display_data"
    },
    {
     "data": {
      "image/png": "[encoded data removed]",
      "text/plain": [
       "<Figure size 360x360 with 1 Axes>"
      ]
     },
     "metadata": {
      "needs_background": "light"
     },
     "output_type": "display_data"
    }
   ],
   "source": [
    "## Drawing insights from dates, seeing which weekday,day,month,visit hour and year was most popular\n",
    "df2 = df_dates.stack().reset_index(level=1).rename(columns={'level_1': 'Date', 0: 'Value'})\n",
    "p.map(sns.displot, 'Value',color='green')\n",
    "p.set(xlim=(0, 1.0))"
   ]
  },
  {
   "cell_type": "markdown",
   "id": "caf87d18",
   "metadata": {},
   "source": [
    "## Correlations"
   ]
  },
  {
   "cell_type": "code",
   "execution_count": 99,
   "id": "7260400e",
   "metadata": {},
   "outputs": [
    {
     "data": {
      "text/plain": [
       "<AxesSubplot:>"
      ]
     },
     "execution_count": 99,
     "metadata": {},
     "output_type": "execute_result"
    },
    {
     "data": {
      "image/png": "[encoded data removed]",
      "text/plain": [
       "<Figure size 432x288 with 2 Axes>"
      ]
     },
     "metadata": {
      "needs_background": "light"
     },
     "output_type": "display_data"
    }
   ],
   "source": [
    "cmap = sns.diverging_palette(220, 10, as_cmap=True)\n",
    "sns.heatmap(df.corr(),vmax=.3, center=0, cmap=cmap,\n",
    "            square=True, linewidths=.5, cbar_kws={\"shrink\": .5})"
   ]
  },
  {
   "cell_type": "code",
   "execution_count": 437,
   "id": "aa93100d",
   "metadata": {},
   "outputs": [
    {
     "data": {
      "text/plain": [
       "visitNumber           0.278470\n",
       "visitStartTime        0.006561\n",
       "hits                  0.229274\n",
       "weekday              -0.036715\n",
       "day                   0.003712\n",
       "month                -0.016030\n",
       "year                  0.012865\n",
       "visitHour             0.013776\n",
       "transactionRevenue    1.000000\n",
       "visitId               0.006561\n",
       "fullVisitorId        -0.000276\n",
       "Name: transactionRevenue, dtype: float64"
      ]
     },
     "execution_count": 437,
     "metadata": {},
     "output_type": "execute_result"
    }
   ],
   "source": [
    "##Checking for correlations with the target variable \n",
    "df[['visitNumber','visitStartTime','hits',\n",
    "    'weekday', 'day', 'month', 'year',\n",
    "    'visitHour','transactionRevenue','sessionId', 'visitId','fullVisitorId']].corr()['transactionRevenue'][:]"
   ]
  },
  {
   "cell_type": "code",
   "execution_count": 438,
   "id": "21bc8546",
   "metadata": {},
   "outputs": [
    {
     "data": {
      "text/plain": [
       "visitNumber                0.094990\n",
       "visitStartTime             0.043481\n",
       "hits                       0.584999\n",
       "weekday                   -0.059570\n",
       "day                       -0.006261\n",
       "month                     -0.011435\n",
       "year                       0.032300\n",
       "visitHour                 -0.036760\n",
       "transactionRevenueBinom    1.000000\n",
       "visitId                    0.043481\n",
       "fullVisitorId             -0.000286\n",
       "Name: transactionRevenueBinom, dtype: float64"
      ]
     },
     "execution_count": 438,
     "metadata": {},
     "output_type": "execute_result"
    }
   ],
   "source": [
    "df[['visitNumber','visitStartTime','hits',\n",
    "    'weekday', 'day', 'month', 'year',\n",
    "    'visitHour','transactionRevenueBinom','sessionId', 'visitId','fullVisitorId']].corr()['transactionRevenueBinom'][:]"
   ]
  },
  {
   "cell_type": "code",
   "execution_count": 428,
   "id": "e4a1852f",
   "metadata": {},
   "outputs": [],
   "source": [
    "numerical_variables = df[['visitNumber','visitStartTime','hits','pageviews',\n",
    "                           'weekday', 'day', 'month', 'year',\n",
    "                           'visitHour','transactionRevenue']]"
   ]
  },
  {
   "cell_type": "code",
   "execution_count": 429,
   "id": "2a54abca",
   "metadata": {
    "scrolled": true
   },
   "outputs": [
    {
     "data": {
      "text/html": [
       "<div>\n",
       "<style scoped>\n",
       "    .dataframe tbody tr th:only-of-type {\n",
       "        vertical-align: middle;\n",
       "    }\n",
       "\n",
       "    .dataframe tbody tr th {\n",
       "        vertical-align: top;\n",
       "    }\n",
       "\n",
       "    .dataframe thead th {\n",
       "        text-align: right;\n",
       "    }\n",
       "</style>\n",
       "<table border=\"1\" class=\"dataframe\">\n",
       "  <thead>\n",
       "    <tr style=\"text-align: right;\">\n",
       "      <th></th>\n",
       "      <th>Independent Features</th>\n",
       "      <th>VIF Scores</th>\n",
       "    </tr>\n",
       "  </thead>\n",
       "  <tbody>\n",
       "    <tr>\n",
       "      <th>0</th>\n",
       "      <td>visitNumber</td>\n",
       "      <td>1.086167</td>\n",
       "    </tr>\n",
       "    <tr>\n",
       "      <th>1</th>\n",
       "      <td>visitStartTime</td>\n",
       "      <td>1.398007</td>\n",
       "    </tr>\n",
       "    <tr>\n",
       "      <th>2</th>\n",
       "      <td>hits</td>\n",
       "      <td>38.121349</td>\n",
       "    </tr>\n",
       "    <tr>\n",
       "      <th>3</th>\n",
       "      <td>pageviews</td>\n",
       "      <td>37.976496</td>\n",
       "    </tr>\n",
       "    <tr>\n",
       "      <th>4</th>\n",
       "      <td>weekday</td>\n",
       "      <td>1.002506</td>\n",
       "    </tr>\n",
       "    <tr>\n",
       "      <th>5</th>\n",
       "      <td>day</td>\n",
       "      <td>1.005195</td>\n",
       "    </tr>\n",
       "    <tr>\n",
       "      <th>6</th>\n",
       "      <td>month</td>\n",
       "      <td>1.293005</td>\n",
       "    </tr>\n",
       "    <tr>\n",
       "      <th>7</th>\n",
       "      <td>year</td>\n",
       "      <td>0.002257</td>\n",
       "    </tr>\n",
       "    <tr>\n",
       "      <th>8</th>\n",
       "      <td>visitHour</td>\n",
       "      <td>1.003078</td>\n",
       "    </tr>\n",
       "    <tr>\n",
       "      <th>9</th>\n",
       "      <td>transactionRevenue</td>\n",
       "      <td>1.139266</td>\n",
       "    </tr>\n",
       "  </tbody>\n",
       "</table>\n",
       "</div>"
      ],
      "text/plain": [
       "  Independent Features  VIF Scores\n",
       "0          visitNumber    1.086167\n",
       "1       visitStartTime    1.398007\n",
       "2                 hits   38.121349\n",
       "3            pageviews   37.976496\n",
       "4              weekday    1.002506\n",
       "5                  day    1.005195\n",
       "6                month    1.293005\n",
       "7                 year    0.002257\n",
       "8            visitHour    1.003078\n",
       "9   transactionRevenue    1.139266"
      ]
     },
     "execution_count": 429,
     "metadata": {},
     "output_type": "execute_result"
    }
   ],
   "source": [
    "## Checking for multicollinearity by using the VIF scores\n",
    "def vif_scores(df):\n",
    "    VIF_Scores = pd.DataFrame()\n",
    "    VIF_Scores[\"Independent Features\"] = df.columns\n",
    "    VIF_Scores[\"VIF Scores\"] = [variance_inflation_factor(df.values,i) for i in range(df.shape[1])]\n",
    "    return VIF_Scores\n",
    "vif_scores(numerical_variables)\n",
    "## Looks like hits and pageviews have high VIF \n",
    "## which means they explain the same variance within this dataset\n",
    "## I am going to remove one of them"
   ]
  },
  {
   "cell_type": "code",
   "execution_count": 430,
   "id": "f7aabbe3",
   "metadata": {},
   "outputs": [
    {
     "data": {
      "text/html": [
       "<div>\n",
       "<style scoped>\n",
       "    .dataframe tbody tr th:only-of-type {\n",
       "        vertical-align: middle;\n",
       "    }\n",
       "\n",
       "    .dataframe tbody tr th {\n",
       "        vertical-align: top;\n",
       "    }\n",
       "\n",
       "    .dataframe thead th {\n",
       "        text-align: right;\n",
       "    }\n",
       "</style>\n",
       "<table border=\"1\" class=\"dataframe\">\n",
       "  <thead>\n",
       "    <tr style=\"text-align: right;\">\n",
       "      <th></th>\n",
       "      <th>Independent Features</th>\n",
       "      <th>VIF Scores</th>\n",
       "    </tr>\n",
       "  </thead>\n",
       "  <tbody>\n",
       "    <tr>\n",
       "      <th>0</th>\n",
       "      <td>visitNumber</td>\n",
       "      <td>1.086074</td>\n",
       "    </tr>\n",
       "    <tr>\n",
       "      <th>1</th>\n",
       "      <td>visitStartTime</td>\n",
       "      <td>1.397794</td>\n",
       "    </tr>\n",
       "    <tr>\n",
       "      <th>2</th>\n",
       "      <td>hits</td>\n",
       "      <td>1.063170</td>\n",
       "    </tr>\n",
       "    <tr>\n",
       "      <th>3</th>\n",
       "      <td>weekday</td>\n",
       "      <td>1.002411</td>\n",
       "    </tr>\n",
       "    <tr>\n",
       "      <th>4</th>\n",
       "      <td>day</td>\n",
       "      <td>1.005193</td>\n",
       "    </tr>\n",
       "    <tr>\n",
       "      <th>5</th>\n",
       "      <td>month</td>\n",
       "      <td>1.292590</td>\n",
       "    </tr>\n",
       "    <tr>\n",
       "      <th>6</th>\n",
       "      <td>year</td>\n",
       "      <td>0.002257</td>\n",
       "    </tr>\n",
       "    <tr>\n",
       "      <th>7</th>\n",
       "      <td>visitHour</td>\n",
       "      <td>1.002564</td>\n",
       "    </tr>\n",
       "    <tr>\n",
       "      <th>8</th>\n",
       "      <td>transactionRevenue</td>\n",
       "      <td>1.138746</td>\n",
       "    </tr>\n",
       "  </tbody>\n",
       "</table>\n",
       "</div>"
      ],
      "text/plain": [
       "  Independent Features  VIF Scores\n",
       "0          visitNumber    1.086074\n",
       "1       visitStartTime    1.397794\n",
       "2                 hits    1.063170\n",
       "3              weekday    1.002411\n",
       "4                  day    1.005193\n",
       "5                month    1.292590\n",
       "6                 year    0.002257\n",
       "7            visitHour    1.002564\n",
       "8   transactionRevenue    1.138746"
      ]
     },
     "execution_count": 430,
     "metadata": {},
     "output_type": "execute_result"
    }
   ],
   "source": [
    "numerical_variables2 = df[['visitNumber','visitStartTime','hits',\n",
    "                           'weekday', 'day', 'month', 'year',\n",
    "                           'visitHour','transactionRevenue']]\n",
    "vif_scores(numerical_variables2)"
   ]
  },
  {
   "cell_type": "markdown",
   "id": "aa79680b",
   "metadata": {},
   "source": [
    "## Bivariate Analysis"
   ]
  },
  {
   "cell_type": "code",
   "execution_count": 678,
   "id": "c76279b0",
   "metadata": {},
   "outputs": [
    {
     "data": {
      "text/plain": [
       "<AxesSubplot:ylabel='browser'>"
      ]
     },
     "execution_count": 678,
     "metadata": {},
     "output_type": "execute_result"
    },
    {
     "data": {
      "image/png": "[encoded data removed]",
      "text/plain": [
       "<Figure size 432x288 with 1 Axes>"
      ]
     },
     "metadata": {
      "needs_background": "light"
     },
     "output_type": "display_data"
    }
   ],
   "source": [
    "df.groupby('browser')['transactionRevenue'].count().plot(kind='barh')"
   ]
  },
  {
   "cell_type": "code",
   "execution_count": 677,
   "id": "52df98b4",
   "metadata": {},
   "outputs": [
    {
     "data": {
      "text/plain": [
       "<AxesSubplot:ylabel='channelGrouping'>"
      ]
     },
     "execution_count": 677,
     "metadata": {},
     "output_type": "execute_result"
    },
    {
     "data": {
      "image/png": "[encoded data removed]",
      "text/plain": [
       "<Figure size 432x288 with 1 Axes>"
      ]
     },
     "metadata": {
      "needs_background": "light"
     },
     "output_type": "display_data"
    }
   ],
   "source": [
    "df.groupby('channelGrouping')['transactionRevenue'].count().plot(kind='barh')"
   ]
  },
  {
   "cell_type": "code",
   "execution_count": 676,
   "id": "49bae910",
   "metadata": {},
   "outputs": [
    {
     "data": {
      "text/plain": [
       "<AxesSubplot:ylabel='operatingSystem'>"
      ]
     },
     "execution_count": 676,
     "metadata": {},
     "output_type": "execute_result"
    },
    {
     "data": {
      "image/png": "[encoded data removed]",
      "text/plain": [
       "<Figure size 432x288 with 1 Axes>"
      ]
     },
     "metadata": {
      "needs_background": "light"
     },
     "output_type": "display_data"
    }
   ],
   "source": [
    "df.groupby('operatingSystem')['transactionRevenue'].count().plot(kind='barh')"
   ]
  },
  {
   "cell_type": "code",
   "execution_count": 675,
   "id": "7ff200e4",
   "metadata": {},
   "outputs": [
    {
     "data": {
      "text/plain": [
       "<AxesSubplot:ylabel='subContinent'>"
      ]
     },
     "execution_count": 675,
     "metadata": {},
     "output_type": "execute_result"
    },
    {
     "data": {
      "image/png": "[encoded data removed]",
      "text/plain": [
       "<Figure size 432x288 with 1 Axes>"
      ]
     },
     "metadata": {
      "needs_background": "light"
     },
     "output_type": "display_data"
    }
   ],
   "source": [
    "df.groupby('subContinent')['transactionRevenue'].count().plot(kind='barh')"
   ]
  },
  {
   "cell_type": "code",
   "execution_count": 673,
   "id": "36712ee7",
   "metadata": {},
   "outputs": [
    {
     "data": {
      "text/plain": [
       "<AxesSubplot:ylabel='continent'>"
      ]
     },
     "execution_count": 673,
     "metadata": {},
     "output_type": "execute_result"
    },
    {
     "data": {
      "image/png": "[encoded data removed]",
      "text/plain": [
       "<Figure size 432x288 with 1 Axes>"
      ]
     },
     "metadata": {
      "needs_background": "light"
     },
     "output_type": "display_data"
    }
   ],
   "source": [
    "df.groupby('continent')['transactionRevenue'].sum().plot(kind='barh')"
   ]
  },
  {
   "cell_type": "code",
   "execution_count": 672,
   "id": "0e30ed92",
   "metadata": {},
   "outputs": [
    {
     "data": {
      "text/plain": [
       "<AxesSubplot:ylabel='isMobile'>"
      ]
     },
     "execution_count": 672,
     "metadata": {},
     "output_type": "execute_result"
    },
    {
     "data": {
      "image/png": "[encoded data removed]",
      "text/plain": [
       "<Figure size 432x288 with 1 Axes>"
      ]
     },
     "metadata": {
      "needs_background": "light"
     },
     "output_type": "display_data"
    }
   ],
   "source": [
    "df.groupby('isMobile')['transactionRevenue'].count().plot(kind='barh')"
   ]
  },
  {
   "cell_type": "code",
   "execution_count": 671,
   "id": "8701ee45",
   "metadata": {},
   "outputs": [
    {
     "data": {
      "text/plain": [
       "<AxesSubplot:ylabel='medium'>"
      ]
     },
     "execution_count": 671,
     "metadata": {},
     "output_type": "execute_result"
    },
    {
     "data": {
      "image/png": "[encoded data removed]",
      "text/plain": [
       "<Figure size 432x288 with 1 Axes>"
      ]
     },
     "metadata": {
      "needs_background": "light"
     },
     "output_type": "display_data"
    }
   ],
   "source": [
    "df.groupby('medium')['transactionRevenue'].count().plot(kind='barh')"
   ]
  },
  {
   "cell_type": "code",
   "execution_count": 670,
   "id": "3238945f",
   "metadata": {},
   "outputs": [
    {
     "data": {
      "text/plain": [
       "<AxesSubplot:xlabel='weekday'>"
      ]
     },
     "execution_count": 670,
     "metadata": {},
     "output_type": "execute_result"
    },
    {
     "data": {
      "image/png": "[encoded data removed]",
      "text/plain": [
       "<Figure size 432x288 with 1 Axes>"
      ]
     },
     "metadata": {
      "needs_background": "light"
     },
     "output_type": "display_data"
    }
   ],
   "source": [
    "df.groupby(['weekday'])['transactionRevenue'].count().plot()"
   ]
  },
  {
   "cell_type": "code",
   "execution_count": 669,
   "id": "a9854c11",
   "metadata": {
    "scrolled": false
   },
   "outputs": [
    {
     "data": {
      "text/plain": [
       "<AxesSubplot:xlabel='month'>"
      ]
     },
     "execution_count": 669,
     "metadata": {},
     "output_type": "execute_result"
    },
    {
     "data": {
      "image/png": "[encoded data removed]",
      "text/plain": [
       "<Figure size 432x288 with 1 Axes>"
      ]
     },
     "metadata": {
      "needs_background": "light"
     },
     "output_type": "display_data"
    }
   ],
   "source": [
    "df.groupby(['month'])['transactionRevenue'].count().plot()"
   ]
  },
  {
   "cell_type": "code",
   "execution_count": 207,
   "id": "2b94b428",
   "metadata": {},
   "outputs": [
    {
     "data": {
      "text/plain": [
       "<AxesSubplot:xlabel='day'>"
      ]
     },
     "execution_count": 207,
     "metadata": {},
     "output_type": "execute_result"
    },
    {
     "data": {
      "image/png": "[encoded data removed]",
      "text/plain": [
       "<Figure size 432x288 with 1 Axes>"
      ]
     },
     "metadata": {
      "needs_background": "light"
     },
     "output_type": "display_data"
    }
   ],
   "source": [
    "df.groupby(['day'])['transactionRevenue'].count().plot()"
   ]
  },
  {
   "cell_type": "code",
   "execution_count": 655,
   "id": "25a22398",
   "metadata": {},
   "outputs": [
    {
     "data": {
      "text/html": [
       "<div>\n",
       "<style scoped>\n",
       "    .dataframe tbody tr th:only-of-type {\n",
       "        vertical-align: middle;\n",
       "    }\n",
       "\n",
       "    .dataframe tbody tr th {\n",
       "        vertical-align: top;\n",
       "    }\n",
       "\n",
       "    .dataframe thead th {\n",
       "        text-align: right;\n",
       "    }\n",
       "</style>\n",
       "<table border=\"1\" class=\"dataframe\">\n",
       "  <thead>\n",
       "    <tr style=\"text-align: right;\">\n",
       "      <th></th>\n",
       "      <th>transactionRevenue</th>\n",
       "    </tr>\n",
       "    <tr>\n",
       "      <th>subContinent</th>\n",
       "      <th></th>\n",
       "    </tr>\n",
       "  </thead>\n",
       "  <tbody>\n",
       "    <tr>\n",
       "      <th>Australasia</th>\n",
       "      <td>1.793230e+09</td>\n",
       "    </tr>\n",
       "    <tr>\n",
       "      <th>Caribbean</th>\n",
       "      <td>1.563550e+09</td>\n",
       "    </tr>\n",
       "    <tr>\n",
       "      <th>Central America</th>\n",
       "      <td>1.905550e+09</td>\n",
       "    </tr>\n",
       "    <tr>\n",
       "      <th>Central Asia</th>\n",
       "      <td>3.498000e+07</td>\n",
       "    </tr>\n",
       "    <tr>\n",
       "      <th>Eastern Africa</th>\n",
       "      <td>5.268700e+09</td>\n",
       "    </tr>\n",
       "    <tr>\n",
       "      <th>Eastern Asia</th>\n",
       "      <td>1.107522e+10</td>\n",
       "    </tr>\n",
       "    <tr>\n",
       "      <th>Eastern Europe</th>\n",
       "      <td>9.468000e+08</td>\n",
       "    </tr>\n",
       "    <tr>\n",
       "      <th>Melanesia</th>\n",
       "      <td>0.000000e+00</td>\n",
       "    </tr>\n",
       "    <tr>\n",
       "      <th>Micronesian Region</th>\n",
       "      <td>0.000000e+00</td>\n",
       "    </tr>\n",
       "    <tr>\n",
       "      <th>Middle Africa</th>\n",
       "      <td>0.000000e+00</td>\n",
       "    </tr>\n",
       "    <tr>\n",
       "      <th>Northern Africa</th>\n",
       "      <td>5.096000e+07</td>\n",
       "    </tr>\n",
       "    <tr>\n",
       "      <th>Northern America</th>\n",
       "      <td>1.485265e+12</td>\n",
       "    </tr>\n",
       "    <tr>\n",
       "      <th>Northern Europe</th>\n",
       "      <td>1.993880e+09</td>\n",
       "    </tr>\n",
       "    <tr>\n",
       "      <th>South America</th>\n",
       "      <td>1.593731e+10</td>\n",
       "    </tr>\n",
       "    <tr>\n",
       "      <th>Southeast Asia</th>\n",
       "      <td>3.755990e+09</td>\n",
       "    </tr>\n",
       "    <tr>\n",
       "      <th>Southern Africa</th>\n",
       "      <td>6.570000e+07</td>\n",
       "    </tr>\n",
       "    <tr>\n",
       "      <th>Southern Asia</th>\n",
       "      <td>7.546100e+08</td>\n",
       "    </tr>\n",
       "    <tr>\n",
       "      <th>Southern Europe</th>\n",
       "      <td>9.640100e+08</td>\n",
       "    </tr>\n",
       "    <tr>\n",
       "      <th>Western Africa</th>\n",
       "      <td>3.302400e+09</td>\n",
       "    </tr>\n",
       "    <tr>\n",
       "      <th>Western Asia</th>\n",
       "      <td>1.781040e+09</td>\n",
       "    </tr>\n",
       "    <tr>\n",
       "      <th>Western Europe</th>\n",
       "      <td>2.842340e+09</td>\n",
       "    </tr>\n",
       "    <tr>\n",
       "      <th>not set</th>\n",
       "      <td>7.697800e+08</td>\n",
       "    </tr>\n",
       "  </tbody>\n",
       "</table>\n",
       "</div>"
      ],
      "text/plain": [
       "                    transactionRevenue\n",
       "subContinent                          \n",
       "Australasia               1.793230e+09\n",
       "Caribbean                 1.563550e+09\n",
       "Central America           1.905550e+09\n",
       "Central Asia              3.498000e+07\n",
       "Eastern Africa            5.268700e+09\n",
       "Eastern Asia              1.107522e+10\n",
       "Eastern Europe            9.468000e+08\n",
       "Melanesia                 0.000000e+00\n",
       "Micronesian Region        0.000000e+00\n",
       "Middle Africa             0.000000e+00\n",
       "Northern Africa           5.096000e+07\n",
       "Northern America          1.485265e+12\n",
       "Northern Europe           1.993880e+09\n",
       "South America             1.593731e+10\n",
       "Southeast Asia            3.755990e+09\n",
       "Southern Africa           6.570000e+07\n",
       "Southern Asia             7.546100e+08\n",
       "Southern Europe           9.640100e+08\n",
       "Western Africa            3.302400e+09\n",
       "Western Asia              1.781040e+09\n",
       "Western Europe            2.842340e+09\n",
       "not set                   7.697800e+08"
      ]
     },
     "execution_count": 655,
     "metadata": {},
     "output_type": "execute_result"
    }
   ],
   "source": [
    "pd.pivot_table(df, index = ['subContinent'], values = 'transactionRevenue',aggfunc = 'sum')"
   ]
  },
  {
   "cell_type": "code",
   "execution_count": 682,
   "id": "f303694b",
   "metadata": {},
   "outputs": [
    {
     "data": {
      "text/html": [
       "<div>\n",
       "<style scoped>\n",
       "    .dataframe tbody tr th:only-of-type {\n",
       "        vertical-align: middle;\n",
       "    }\n",
       "\n",
       "    .dataframe tbody tr th {\n",
       "        vertical-align: top;\n",
       "    }\n",
       "\n",
       "    .dataframe thead th {\n",
       "        text-align: right;\n",
       "    }\n",
       "</style>\n",
       "<table border=\"1\" class=\"dataframe\">\n",
       "  <thead>\n",
       "    <tr style=\"text-align: right;\">\n",
       "      <th></th>\n",
       "      <th>transactionRevenue</th>\n",
       "    </tr>\n",
       "    <tr>\n",
       "      <th>hits</th>\n",
       "      <th></th>\n",
       "    </tr>\n",
       "  </thead>\n",
       "  <tbody>\n",
       "    <tr>\n",
       "      <th>1</th>\n",
       "      <td>0.000000e+00</td>\n",
       "    </tr>\n",
       "    <tr>\n",
       "      <th>2</th>\n",
       "      <td>1.214500e+09</td>\n",
       "    </tr>\n",
       "    <tr>\n",
       "      <th>3</th>\n",
       "      <td>2.111800e+08</td>\n",
       "    </tr>\n",
       "    <tr>\n",
       "      <th>4</th>\n",
       "      <td>9.943000e+08</td>\n",
       "    </tr>\n",
       "    <tr>\n",
       "      <th>5</th>\n",
       "      <td>2.282030e+09</td>\n",
       "    </tr>\n",
       "    <tr>\n",
       "      <th>...</th>\n",
       "      <td>...</td>\n",
       "    </tr>\n",
       "    <tr>\n",
       "      <th>386</th>\n",
       "      <td>4.719200e+08</td>\n",
       "    </tr>\n",
       "    <tr>\n",
       "      <th>387</th>\n",
       "      <td>8.887000e+07</td>\n",
       "    </tr>\n",
       "    <tr>\n",
       "      <th>445</th>\n",
       "      <td>7.485000e+07</td>\n",
       "    </tr>\n",
       "    <tr>\n",
       "      <th>471</th>\n",
       "      <td>1.981000e+08</td>\n",
       "    </tr>\n",
       "    <tr>\n",
       "      <th>500</th>\n",
       "      <td>2.147310e+09</td>\n",
       "    </tr>\n",
       "  </tbody>\n",
       "</table>\n",
       "<p>218 rows × 1 columns</p>\n",
       "</div>"
      ],
      "text/plain": [
       "      transactionRevenue\n",
       "hits                    \n",
       "1           0.000000e+00\n",
       "2           1.214500e+09\n",
       "3           2.111800e+08\n",
       "4           9.943000e+08\n",
       "5           2.282030e+09\n",
       "...                  ...\n",
       "386         4.719200e+08\n",
       "387         8.887000e+07\n",
       "445         7.485000e+07\n",
       "471         1.981000e+08\n",
       "500         2.147310e+09\n",
       "\n",
       "[218 rows x 1 columns]"
      ]
     },
     "execution_count": 682,
     "metadata": {},
     "output_type": "execute_result"
    }
   ],
   "source": [
    "pd.pivot_table(df, index = ['hits'], values = 'transactionRevenue',aggfunc = 'sum')"
   ]
  },
  {
   "cell_type": "code",
   "execution_count": 683,
   "id": "b6c11e16",
   "metadata": {},
   "outputs": [
    {
     "data": {
      "text/html": [
       "<div>\n",
       "<style scoped>\n",
       "    .dataframe tbody tr th:only-of-type {\n",
       "        vertical-align: middle;\n",
       "    }\n",
       "\n",
       "    .dataframe tbody tr th {\n",
       "        vertical-align: top;\n",
       "    }\n",
       "\n",
       "    .dataframe thead th {\n",
       "        text-align: right;\n",
       "    }\n",
       "</style>\n",
       "<table border=\"1\" class=\"dataframe\">\n",
       "  <thead>\n",
       "    <tr style=\"text-align: right;\">\n",
       "      <th></th>\n",
       "      <th>transactionRevenue</th>\n",
       "    </tr>\n",
       "    <tr>\n",
       "      <th>pageviews</th>\n",
       "      <th></th>\n",
       "    </tr>\n",
       "  </thead>\n",
       "  <tbody>\n",
       "    <tr>\n",
       "      <th>0</th>\n",
       "      <td>0.000000e+00</td>\n",
       "    </tr>\n",
       "    <tr>\n",
       "      <th>1</th>\n",
       "      <td>0.000000e+00</td>\n",
       "    </tr>\n",
       "    <tr>\n",
       "      <th>2</th>\n",
       "      <td>1.214500e+09</td>\n",
       "    </tr>\n",
       "    <tr>\n",
       "      <th>3</th>\n",
       "      <td>2.111800e+08</td>\n",
       "    </tr>\n",
       "    <tr>\n",
       "      <th>4</th>\n",
       "      <td>9.943000e+08</td>\n",
       "    </tr>\n",
       "    <tr>\n",
       "      <th>...</th>\n",
       "      <td>...</td>\n",
       "    </tr>\n",
       "    <tr>\n",
       "      <th>358</th>\n",
       "      <td>7.485000e+07</td>\n",
       "    </tr>\n",
       "    <tr>\n",
       "      <th>400</th>\n",
       "      <td>1.339500e+08</td>\n",
       "    </tr>\n",
       "    <tr>\n",
       "      <th>431</th>\n",
       "      <td>1.720930e+09</td>\n",
       "    </tr>\n",
       "    <tr>\n",
       "      <th>466</th>\n",
       "      <td>8.796000e+07</td>\n",
       "    </tr>\n",
       "    <tr>\n",
       "      <th>469</th>\n",
       "      <td>9.098000e+07</td>\n",
       "    </tr>\n",
       "  </tbody>\n",
       "</table>\n",
       "<p>172 rows × 1 columns</p>\n",
       "</div>"
      ],
      "text/plain": [
       "           transactionRevenue\n",
       "pageviews                    \n",
       "0                0.000000e+00\n",
       "1                0.000000e+00\n",
       "2                1.214500e+09\n",
       "3                2.111800e+08\n",
       "4                9.943000e+08\n",
       "...                       ...\n",
       "358              7.485000e+07\n",
       "400              1.339500e+08\n",
       "431              1.720930e+09\n",
       "466              8.796000e+07\n",
       "469              9.098000e+07\n",
       "\n",
       "[172 rows x 1 columns]"
      ]
     },
     "execution_count": 683,
     "metadata": {},
     "output_type": "execute_result"
    }
   ],
   "source": [
    "pd.pivot_table(df, index = ['pageviews'], values = 'transactionRevenue',aggfunc = 'sum')"
   ]
  },
  {
   "cell_type": "markdown",
   "id": "6bfb6126",
   "metadata": {},
   "source": [
    "## Visitors Analysis"
   ]
  },
  {
   "cell_type": "code",
   "execution_count": 260,
   "id": "4d03cc40",
   "metadata": {
    "scrolled": true
   },
   "outputs": [
    {
     "data": {
      "text/plain": [
       "21116"
      ]
     },
     "execution_count": 260,
     "metadata": {},
     "output_type": "execute_result"
    }
   ],
   "source": [
    "## 21116 visitors who only visited the webshop once, 1914 visited more than once\n",
    "df['fullVisitorId'].nunique() "
   ]
  },
  {
   "cell_type": "code",
   "execution_count": 337,
   "id": "d17303a7",
   "metadata": {},
   "outputs": [
    {
     "data": {
      "text/plain": [
       "False    12430\n",
       "True     10600\n",
       "dtype: int64"
      ]
     },
     "execution_count": 337,
     "metadata": {},
     "output_type": "execute_result"
    }
   ],
   "source": [
    "visitor_num = df[['fullVisitorId','hits', 'pageviews',\n",
    "       'transactionRevenue']]\n",
    "r = (visitor_num['hits'] == visitor_num ['pageviews']) ## had suspicion that pageviews and hits had the same values but it turned out to be untrue\n",
    "r.value_counts()"
   ]
  },
  {
   "cell_type": "code",
   "execution_count": 338,
   "id": "cb5526c8",
   "metadata": {
    "scrolled": false
   },
   "outputs": [
    {
     "data": {
      "text/html": [
       "<div>\n",
       "<style scoped>\n",
       "    .dataframe tbody tr th:only-of-type {\n",
       "        vertical-align: middle;\n",
       "    }\n",
       "\n",
       "    .dataframe tbody tr th {\n",
       "        vertical-align: top;\n",
       "    }\n",
       "\n",
       "    .dataframe thead th {\n",
       "        text-align: right;\n",
       "    }\n",
       "</style>\n",
       "<table border=\"1\" class=\"dataframe\">\n",
       "  <thead>\n",
       "    <tr style=\"text-align: right;\">\n",
       "      <th></th>\n",
       "      <th>fullVisitorId</th>\n",
       "      <th>hits</th>\n",
       "      <th>pageviews</th>\n",
       "      <th>transactionRevenue</th>\n",
       "    </tr>\n",
       "  </thead>\n",
       "  <tbody>\n",
       "    <tr>\n",
       "      <th>0</th>\n",
       "      <td>6.476721e+13</td>\n",
       "      <td>1</td>\n",
       "      <td>1</td>\n",
       "      <td>0.0</td>\n",
       "    </tr>\n",
       "    <tr>\n",
       "      <th>1</th>\n",
       "      <td>1.664653e+14</td>\n",
       "      <td>12</td>\n",
       "      <td>10</td>\n",
       "      <td>0.0</td>\n",
       "    </tr>\n",
       "    <tr>\n",
       "      <th>2</th>\n",
       "      <td>1.766520e+14</td>\n",
       "      <td>1</td>\n",
       "      <td>1</td>\n",
       "      <td>0.0</td>\n",
       "    </tr>\n",
       "    <tr>\n",
       "      <th>3</th>\n",
       "      <td>2.131311e+14</td>\n",
       "      <td>14</td>\n",
       "      <td>13</td>\n",
       "      <td>33590000.0</td>\n",
       "    </tr>\n",
       "    <tr>\n",
       "      <th>4</th>\n",
       "      <td>2.669269e+14</td>\n",
       "      <td>16</td>\n",
       "      <td>12</td>\n",
       "      <td>0.0</td>\n",
       "    </tr>\n",
       "    <tr>\n",
       "      <th>...</th>\n",
       "      <td>...</td>\n",
       "      <td>...</td>\n",
       "      <td>...</td>\n",
       "      <td>...</td>\n",
       "    </tr>\n",
       "    <tr>\n",
       "      <th>21111</th>\n",
       "      <td>9.997409e+18</td>\n",
       "      <td>86</td>\n",
       "      <td>65</td>\n",
       "      <td>32360000.0</td>\n",
       "    </tr>\n",
       "    <tr>\n",
       "      <th>21112</th>\n",
       "      <td>9.997595e+18</td>\n",
       "      <td>3</td>\n",
       "      <td>3</td>\n",
       "      <td>0.0</td>\n",
       "    </tr>\n",
       "    <tr>\n",
       "      <th>21113</th>\n",
       "      <td>9.998597e+18</td>\n",
       "      <td>37</td>\n",
       "      <td>33</td>\n",
       "      <td>97200000.0</td>\n",
       "    </tr>\n",
       "    <tr>\n",
       "      <th>21114</th>\n",
       "      <td>9.998996e+18</td>\n",
       "      <td>16</td>\n",
       "      <td>16</td>\n",
       "      <td>59980000.0</td>\n",
       "    </tr>\n",
       "    <tr>\n",
       "      <th>21115</th>\n",
       "      <td>9.999252e+18</td>\n",
       "      <td>5</td>\n",
       "      <td>5</td>\n",
       "      <td>0.0</td>\n",
       "    </tr>\n",
       "  </tbody>\n",
       "</table>\n",
       "<p>21116 rows × 4 columns</p>\n",
       "</div>"
      ],
      "text/plain": [
       "       fullVisitorId  hits  pageviews  transactionRevenue\n",
       "0       6.476721e+13     1          1                 0.0\n",
       "1       1.664653e+14    12         10                 0.0\n",
       "2       1.766520e+14     1          1                 0.0\n",
       "3       2.131311e+14    14         13          33590000.0\n",
       "4       2.669269e+14    16         12                 0.0\n",
       "...              ...   ...        ...                 ...\n",
       "21111   9.997409e+18    86         65          32360000.0\n",
       "21112   9.997595e+18     3          3                 0.0\n",
       "21113   9.998597e+18    37         33          97200000.0\n",
       "21114   9.998996e+18    16         16          59980000.0\n",
       "21115   9.999252e+18     5          5                 0.0\n",
       "\n",
       "[21116 rows x 4 columns]"
      ]
     },
     "execution_count": 338,
     "metadata": {},
     "output_type": "execute_result"
    }
   ],
   "source": [
    "agg = visitor_num.groupby(['fullVisitorId']).sum().reset_index()\n",
    "agg"
   ]
  },
  {
   "cell_type": "code",
   "execution_count": 371,
   "id": "f91a03e8",
   "metadata": {},
   "outputs": [
    {
     "data": {
      "text/html": [
       "<div>\n",
       "<style scoped>\n",
       "    .dataframe tbody tr th:only-of-type {\n",
       "        vertical-align: middle;\n",
       "    }\n",
       "\n",
       "    .dataframe tbody tr th {\n",
       "        vertical-align: top;\n",
       "    }\n",
       "\n",
       "    .dataframe thead th {\n",
       "        text-align: right;\n",
       "    }\n",
       "</style>\n",
       "<table border=\"1\" class=\"dataframe\">\n",
       "  <thead>\n",
       "    <tr style=\"text-align: right;\">\n",
       "      <th></th>\n",
       "      <th>fullVisitorId</th>\n",
       "      <th>hits</th>\n",
       "      <th>pageviews</th>\n",
       "      <th>transactionRevenue</th>\n",
       "    </tr>\n",
       "  </thead>\n",
       "  <tbody>\n",
       "    <tr>\n",
       "      <th>3</th>\n",
       "      <td>2.131311e+14</td>\n",
       "      <td>14</td>\n",
       "      <td>13</td>\n",
       "      <td>33590000.0</td>\n",
       "    </tr>\n",
       "    <tr>\n",
       "      <th>6</th>\n",
       "      <td>4.353241e+14</td>\n",
       "      <td>14</td>\n",
       "      <td>11</td>\n",
       "      <td>44790000.0</td>\n",
       "    </tr>\n",
       "    <tr>\n",
       "      <th>7</th>\n",
       "      <td>5.626781e+14</td>\n",
       "      <td>18</td>\n",
       "      <td>16</td>\n",
       "      <td>95700000.0</td>\n",
       "    </tr>\n",
       "    <tr>\n",
       "      <th>8</th>\n",
       "      <td>5.857089e+14</td>\n",
       "      <td>22</td>\n",
       "      <td>20</td>\n",
       "      <td>43970000.0</td>\n",
       "    </tr>\n",
       "    <tr>\n",
       "      <th>9</th>\n",
       "      <td>6.707220e+14</td>\n",
       "      <td>17</td>\n",
       "      <td>17</td>\n",
       "      <td>37980000.0</td>\n",
       "    </tr>\n",
       "    <tr>\n",
       "      <th>...</th>\n",
       "      <td>...</td>\n",
       "      <td>...</td>\n",
       "      <td>...</td>\n",
       "      <td>...</td>\n",
       "    </tr>\n",
       "    <tr>\n",
       "      <th>21104</th>\n",
       "      <td>9.991633e+18</td>\n",
       "      <td>17</td>\n",
       "      <td>16</td>\n",
       "      <td>33590000.0</td>\n",
       "    </tr>\n",
       "    <tr>\n",
       "      <th>21109</th>\n",
       "      <td>9.994767e+18</td>\n",
       "      <td>42</td>\n",
       "      <td>30</td>\n",
       "      <td>134320000.0</td>\n",
       "    </tr>\n",
       "    <tr>\n",
       "      <th>21111</th>\n",
       "      <td>9.997409e+18</td>\n",
       "      <td>86</td>\n",
       "      <td>65</td>\n",
       "      <td>32360000.0</td>\n",
       "    </tr>\n",
       "    <tr>\n",
       "      <th>21113</th>\n",
       "      <td>9.998597e+18</td>\n",
       "      <td>37</td>\n",
       "      <td>33</td>\n",
       "      <td>97200000.0</td>\n",
       "    </tr>\n",
       "    <tr>\n",
       "      <th>21114</th>\n",
       "      <td>9.998996e+18</td>\n",
       "      <td>16</td>\n",
       "      <td>16</td>\n",
       "      <td>59980000.0</td>\n",
       "    </tr>\n",
       "  </tbody>\n",
       "</table>\n",
       "<p>9996 rows × 4 columns</p>\n",
       "</div>"
      ],
      "text/plain": [
       "       fullVisitorId  hits  pageviews  transactionRevenue\n",
       "3       2.131311e+14    14         13          33590000.0\n",
       "6       4.353241e+14    14         11          44790000.0\n",
       "7       5.626781e+14    18         16          95700000.0\n",
       "8       5.857089e+14    22         20          43970000.0\n",
       "9       6.707220e+14    17         17          37980000.0\n",
       "...              ...   ...        ...                 ...\n",
       "21104   9.991633e+18    17         16          33590000.0\n",
       "21109   9.994767e+18    42         30         134320000.0\n",
       "21111   9.997409e+18    86         65          32360000.0\n",
       "21113   9.998597e+18    37         33          97200000.0\n",
       "21114   9.998996e+18    16         16          59980000.0\n",
       "\n",
       "[9996 rows x 4 columns]"
      ]
     },
     "execution_count": 371,
     "metadata": {},
     "output_type": "execute_result"
    }
   ],
   "source": [
    "agg[agg['transactionRevenue']>0] ## out of 21116, only 9996 contributed to revenue"
   ]
  },
  {
   "cell_type": "code",
   "execution_count": 329,
   "id": "53a91a15",
   "metadata": {},
   "outputs": [],
   "source": [
    "## Valuable customers, these are the top 10% of the highest paying customers from the dataset\n",
    "valuables = agg[agg['transactionRevenue']>agg.transactionRevenue.quantile(0.9)]\n",
    "valuables['whale'] = 1 ## adding a variable to signify if a customer is in the top 10% or not\n",
    "valuables = valuables[['fullVisitorId','whale']]\n",
    "df = df.merge(valuables,how = 'left', on = 'fullVisitorId')\n",
    "df.fillna(0,inplace=True)"
   ]
  },
  {
   "cell_type": "code",
   "execution_count": 380,
   "id": "169e5027",
   "metadata": {},
   "outputs": [],
   "source": [
    "##Extracting number of visits from visitNumber\n",
    "visits= df[['fullVisitorId','visitNumber']]\n",
    "v= visits.sort_values(ascending = False, by = 'visitNumber')\n",
    "v.drop_duplicates(subset='fullVisitorId', keep='first', inplace=True)\n",
    "v.rename(columns = {'visitNumber':'visits'},inplace = True)"
   ]
  },
  {
   "cell_type": "code",
   "execution_count": 384,
   "id": "bf344e09",
   "metadata": {},
   "outputs": [
    {
     "data": {
      "text/html": [
       "<div>\n",
       "<style scoped>\n",
       "    .dataframe tbody tr th:only-of-type {\n",
       "        vertical-align: middle;\n",
       "    }\n",
       "\n",
       "    .dataframe tbody tr th {\n",
       "        vertical-align: top;\n",
       "    }\n",
       "\n",
       "    .dataframe thead th {\n",
       "        text-align: right;\n",
       "    }\n",
       "</style>\n",
       "<table border=\"1\" class=\"dataframe\">\n",
       "  <thead>\n",
       "    <tr style=\"text-align: right;\">\n",
       "      <th></th>\n",
       "      <th>fullVisitorId</th>\n",
       "      <th>hits</th>\n",
       "      <th>pageviews</th>\n",
       "      <th>transactionRevenue</th>\n",
       "      <th>visits</th>\n",
       "    </tr>\n",
       "  </thead>\n",
       "  <tbody>\n",
       "    <tr>\n",
       "      <th>20</th>\n",
       "      <td>2.230855e+15</td>\n",
       "      <td>6</td>\n",
       "      <td>6</td>\n",
       "      <td>0.0</td>\n",
       "      <td>6</td>\n",
       "    </tr>\n",
       "    <tr>\n",
       "      <th>53</th>\n",
       "      <td>6.619758e+15</td>\n",
       "      <td>51</td>\n",
       "      <td>40</td>\n",
       "      <td>0.0</td>\n",
       "      <td>9</td>\n",
       "    </tr>\n",
       "    <tr>\n",
       "      <th>75</th>\n",
       "      <td>9.200564e+15</td>\n",
       "      <td>4</td>\n",
       "      <td>4</td>\n",
       "      <td>0.0</td>\n",
       "      <td>6</td>\n",
       "    </tr>\n",
       "    <tr>\n",
       "      <th>280</th>\n",
       "      <td>4.145438e+16</td>\n",
       "      <td>1</td>\n",
       "      <td>1</td>\n",
       "      <td>0.0</td>\n",
       "      <td>6</td>\n",
       "    </tr>\n",
       "    <tr>\n",
       "      <th>304</th>\n",
       "      <td>4.567132e+16</td>\n",
       "      <td>1</td>\n",
       "      <td>1</td>\n",
       "      <td>0.0</td>\n",
       "      <td>8</td>\n",
       "    </tr>\n",
       "    <tr>\n",
       "      <th>...</th>\n",
       "      <td>...</td>\n",
       "      <td>...</td>\n",
       "      <td>...</td>\n",
       "      <td>...</td>\n",
       "      <td>...</td>\n",
       "    </tr>\n",
       "    <tr>\n",
       "      <th>21019</th>\n",
       "      <td>9.957622e+18</td>\n",
       "      <td>3</td>\n",
       "      <td>3</td>\n",
       "      <td>0.0</td>\n",
       "      <td>12</td>\n",
       "    </tr>\n",
       "    <tr>\n",
       "      <th>21024</th>\n",
       "      <td>9.959640e+18</td>\n",
       "      <td>3</td>\n",
       "      <td>3</td>\n",
       "      <td>0.0</td>\n",
       "      <td>11</td>\n",
       "    </tr>\n",
       "    <tr>\n",
       "      <th>21027</th>\n",
       "      <td>9.960140e+18</td>\n",
       "      <td>1</td>\n",
       "      <td>1</td>\n",
       "      <td>0.0</td>\n",
       "      <td>11</td>\n",
       "    </tr>\n",
       "    <tr>\n",
       "      <th>21031</th>\n",
       "      <td>9.962111e+18</td>\n",
       "      <td>2</td>\n",
       "      <td>2</td>\n",
       "      <td>0.0</td>\n",
       "      <td>18</td>\n",
       "    </tr>\n",
       "    <tr>\n",
       "      <th>21078</th>\n",
       "      <td>9.980588e+18</td>\n",
       "      <td>1</td>\n",
       "      <td>1</td>\n",
       "      <td>0.0</td>\n",
       "      <td>6</td>\n",
       "    </tr>\n",
       "  </tbody>\n",
       "</table>\n",
       "<p>354 rows × 5 columns</p>\n",
       "</div>"
      ],
      "text/plain": [
       "       fullVisitorId  hits  pageviews  transactionRevenue  visits\n",
       "20      2.230855e+15     6          6                 0.0       6\n",
       "53      6.619758e+15    51         40                 0.0       9\n",
       "75      9.200564e+15     4          4                 0.0       6\n",
       "280     4.145438e+16     1          1                 0.0       6\n",
       "304     4.567132e+16     1          1                 0.0       8\n",
       "...              ...   ...        ...                 ...     ...\n",
       "21019   9.957622e+18     3          3                 0.0      12\n",
       "21024   9.959640e+18     3          3                 0.0      11\n",
       "21027   9.960140e+18     1          1                 0.0      11\n",
       "21031   9.962111e+18     2          2                 0.0      18\n",
       "21078   9.980588e+18     1          1                 0.0       6\n",
       "\n",
       "[354 rows x 5 columns]"
      ]
     },
     "execution_count": 384,
     "metadata": {},
     "output_type": "execute_result"
    }
   ],
   "source": [
    "## Lingering visitors, those who visit the webshop often but don't purchase anything\n",
    "p = agg.merge(v,how='left',on = 'fullVisitorId')\n",
    "non_paying = p[p['transactionRevenue']==0] ## visitors who did not contribute to revenue\n",
    "non_paying[non_paying['visits']>5] ## choosing a threshold of 5, these are the visitors who visit the webshop \n",
    "                                        ## but don't purchase anything"
   ]
  },
  {
   "cell_type": "markdown",
   "id": "fabc94dc",
   "metadata": {},
   "source": [
    "## Feature Selection"
   ]
  },
  {
   "cell_type": "code",
   "execution_count": 482,
   "id": "645c4e39",
   "metadata": {},
   "outputs": [
    {
     "data": {
      "text/plain": [
       "Index(['channelGrouping', 'fullVisitorId', 'sessionId', 'visitId',\n",
       "       'visitNumber', 'visitStartTime', 'hits', 'pageviews',\n",
       "       'transactionRevenue', 'browser', 'operatingSystem', 'isMobile',\n",
       "       'continent', 'subContinent', 'country', 'campaign', 'source', 'medium',\n",
       "       'transactionRevenueBias', 'transactionRevenueLog',\n",
       "       'transactionRevenueBinom', 'date', 'weekday', 'day', 'month', 'year',\n",
       "       'visitHour', 'whale'],\n",
       "      dtype='object')"
      ]
     },
     "execution_count": 482,
     "metadata": {},
     "output_type": "execute_result"
    }
   ],
   "source": [
    "df.columns"
   ]
  },
  {
   "cell_type": "code",
   "execution_count": 477,
   "id": "5d3926e0",
   "metadata": {},
   "outputs": [],
   "source": [
    "## Binning \n",
    "white_list = ['google','mallgoogleplexcom','direct','youtubecom','Partners']\n",
    "def source_binning(df):\n",
    "    for i in df['source']:\n",
    "        if i not in white_list:\n",
    "            df['source'].replace(i,'Other',inplace = True)\n",
    "    return df\n",
    "source_binning(df)"
   ]
  },
  {
   "cell_type": "code",
   "execution_count": 503,
   "id": "074d1801",
   "metadata": {},
   "outputs": [
    {
     "data": {
      "text/html": [
       "<div>\n",
       "<style scoped>\n",
       "    .dataframe tbody tr th:only-of-type {\n",
       "        vertical-align: middle;\n",
       "    }\n",
       "\n",
       "    .dataframe tbody tr th {\n",
       "        vertical-align: top;\n",
       "    }\n",
       "\n",
       "    .dataframe thead th {\n",
       "        text-align: right;\n",
       "    }\n",
       "</style>\n",
       "<table border=\"1\" class=\"dataframe\">\n",
       "  <thead>\n",
       "    <tr style=\"text-align: right;\">\n",
       "      <th></th>\n",
       "      <th>fullVisitorId</th>\n",
       "      <th>visitId</th>\n",
       "      <th>visitNumber</th>\n",
       "      <th>visitStartTime</th>\n",
       "      <th>hits</th>\n",
       "      <th>date</th>\n",
       "      <th>weekday</th>\n",
       "      <th>day</th>\n",
       "      <th>month</th>\n",
       "      <th>year</th>\n",
       "      <th>...</th>\n",
       "      <th>source_direct</th>\n",
       "      <th>source_google</th>\n",
       "      <th>source_mallgoogleplexcom</th>\n",
       "      <th>source_youtubecom</th>\n",
       "      <th>medium_cpc</th>\n",
       "      <th>medium_cpm</th>\n",
       "      <th>medium_none</th>\n",
       "      <th>medium_not set</th>\n",
       "      <th>medium_organic</th>\n",
       "      <th>medium_referral</th>\n",
       "    </tr>\n",
       "  </thead>\n",
       "  <tbody>\n",
       "    <tr>\n",
       "      <th>0</th>\n",
       "      <td>8.112932e+18</td>\n",
       "      <td>1470276675</td>\n",
       "      <td>1</td>\n",
       "      <td>1470276675</td>\n",
       "      <td>1</td>\n",
       "      <td>2016-08-03</td>\n",
       "      <td>2</td>\n",
       "      <td>3</td>\n",
       "      <td>8</td>\n",
       "      <td>2016</td>\n",
       "      <td>...</td>\n",
       "      <td>0</td>\n",
       "      <td>0</td>\n",
       "      <td>0</td>\n",
       "      <td>0</td>\n",
       "      <td>0</td>\n",
       "      <td>0</td>\n",
       "      <td>0</td>\n",
       "      <td>0</td>\n",
       "      <td>0</td>\n",
       "      <td>0</td>\n",
       "    </tr>\n",
       "    <tr>\n",
       "      <th>1</th>\n",
       "      <td>1.293288e+18</td>\n",
       "      <td>1470379113</td>\n",
       "      <td>3</td>\n",
       "      <td>1470379113</td>\n",
       "      <td>2</td>\n",
       "      <td>2016-08-04</td>\n",
       "      <td>3</td>\n",
       "      <td>4</td>\n",
       "      <td>8</td>\n",
       "      <td>2016</td>\n",
       "      <td>...</td>\n",
       "      <td>0</td>\n",
       "      <td>0</td>\n",
       "      <td>0</td>\n",
       "      <td>0</td>\n",
       "      <td>0</td>\n",
       "      <td>0</td>\n",
       "      <td>0</td>\n",
       "      <td>0</td>\n",
       "      <td>0</td>\n",
       "      <td>0</td>\n",
       "    </tr>\n",
       "    <tr>\n",
       "      <th>2</th>\n",
       "      <td>5.233172e+18</td>\n",
       "      <td>1470352571</td>\n",
       "      <td>1</td>\n",
       "      <td>1470352571</td>\n",
       "      <td>1</td>\n",
       "      <td>2016-08-04</td>\n",
       "      <td>3</td>\n",
       "      <td>4</td>\n",
       "      <td>8</td>\n",
       "      <td>2016</td>\n",
       "      <td>...</td>\n",
       "      <td>0</td>\n",
       "      <td>0</td>\n",
       "      <td>0</td>\n",
       "      <td>0</td>\n",
       "      <td>0</td>\n",
       "      <td>0</td>\n",
       "      <td>0</td>\n",
       "      <td>0</td>\n",
       "      <td>0</td>\n",
       "      <td>0</td>\n",
       "    </tr>\n",
       "    <tr>\n",
       "      <th>3</th>\n",
       "      <td>7.553271e+18</td>\n",
       "      <td>1470324925</td>\n",
       "      <td>1</td>\n",
       "      <td>1470324925</td>\n",
       "      <td>5</td>\n",
       "      <td>2016-08-04</td>\n",
       "      <td>3</td>\n",
       "      <td>4</td>\n",
       "      <td>8</td>\n",
       "      <td>2016</td>\n",
       "      <td>...</td>\n",
       "      <td>0</td>\n",
       "      <td>0</td>\n",
       "      <td>0</td>\n",
       "      <td>0</td>\n",
       "      <td>0</td>\n",
       "      <td>0</td>\n",
       "      <td>0</td>\n",
       "      <td>0</td>\n",
       "      <td>0</td>\n",
       "      <td>0</td>\n",
       "    </tr>\n",
       "    <tr>\n",
       "      <th>4</th>\n",
       "      <td>7.942509e+18</td>\n",
       "      <td>1470323139</td>\n",
       "      <td>1</td>\n",
       "      <td>1470323139</td>\n",
       "      <td>1</td>\n",
       "      <td>2016-08-04</td>\n",
       "      <td>3</td>\n",
       "      <td>4</td>\n",
       "      <td>8</td>\n",
       "      <td>2016</td>\n",
       "      <td>...</td>\n",
       "      <td>0</td>\n",
       "      <td>0</td>\n",
       "      <td>0</td>\n",
       "      <td>0</td>\n",
       "      <td>0</td>\n",
       "      <td>0</td>\n",
       "      <td>0</td>\n",
       "      <td>0</td>\n",
       "      <td>0</td>\n",
       "      <td>0</td>\n",
       "    </tr>\n",
       "    <tr>\n",
       "      <th>...</th>\n",
       "      <td>...</td>\n",
       "      <td>...</td>\n",
       "      <td>...</td>\n",
       "      <td>...</td>\n",
       "      <td>...</td>\n",
       "      <td>...</td>\n",
       "      <td>...</td>\n",
       "      <td>...</td>\n",
       "      <td>...</td>\n",
       "      <td>...</td>\n",
       "      <td>...</td>\n",
       "      <td>...</td>\n",
       "      <td>...</td>\n",
       "      <td>...</td>\n",
       "      <td>...</td>\n",
       "      <td>...</td>\n",
       "      <td>...</td>\n",
       "      <td>...</td>\n",
       "      <td>...</td>\n",
       "      <td>...</td>\n",
       "      <td>...</td>\n",
       "    </tr>\n",
       "    <tr>\n",
       "      <th>23025</th>\n",
       "      <td>2.205251e+17</td>\n",
       "      <td>1501515340</td>\n",
       "      <td>1</td>\n",
       "      <td>1501515340</td>\n",
       "      <td>7</td>\n",
       "      <td>2017-07-31</td>\n",
       "      <td>0</td>\n",
       "      <td>31</td>\n",
       "      <td>7</td>\n",
       "      <td>2017</td>\n",
       "      <td>...</td>\n",
       "      <td>0</td>\n",
       "      <td>0</td>\n",
       "      <td>0</td>\n",
       "      <td>1</td>\n",
       "      <td>0</td>\n",
       "      <td>0</td>\n",
       "      <td>0</td>\n",
       "      <td>0</td>\n",
       "      <td>0</td>\n",
       "      <td>1</td>\n",
       "    </tr>\n",
       "    <tr>\n",
       "      <th>23026</th>\n",
       "      <td>1.437044e+18</td>\n",
       "      <td>1501513186</td>\n",
       "      <td>1</td>\n",
       "      <td>1501513186</td>\n",
       "      <td>1</td>\n",
       "      <td>2017-07-31</td>\n",
       "      <td>0</td>\n",
       "      <td>31</td>\n",
       "      <td>7</td>\n",
       "      <td>2017</td>\n",
       "      <td>...</td>\n",
       "      <td>0</td>\n",
       "      <td>0</td>\n",
       "      <td>0</td>\n",
       "      <td>1</td>\n",
       "      <td>0</td>\n",
       "      <td>0</td>\n",
       "      <td>0</td>\n",
       "      <td>0</td>\n",
       "      <td>0</td>\n",
       "      <td>1</td>\n",
       "    </tr>\n",
       "    <tr>\n",
       "      <th>23027</th>\n",
       "      <td>7.707399e+18</td>\n",
       "      <td>1501553876</td>\n",
       "      <td>1</td>\n",
       "      <td>1501553876</td>\n",
       "      <td>2</td>\n",
       "      <td>2017-07-31</td>\n",
       "      <td>0</td>\n",
       "      <td>31</td>\n",
       "      <td>7</td>\n",
       "      <td>2017</td>\n",
       "      <td>...</td>\n",
       "      <td>0</td>\n",
       "      <td>0</td>\n",
       "      <td>0</td>\n",
       "      <td>1</td>\n",
       "      <td>0</td>\n",
       "      <td>0</td>\n",
       "      <td>0</td>\n",
       "      <td>0</td>\n",
       "      <td>0</td>\n",
       "      <td>1</td>\n",
       "    </tr>\n",
       "    <tr>\n",
       "      <th>23028</th>\n",
       "      <td>7.738385e+18</td>\n",
       "      <td>1501538396</td>\n",
       "      <td>1</td>\n",
       "      <td>1501538396</td>\n",
       "      <td>2</td>\n",
       "      <td>2017-07-31</td>\n",
       "      <td>0</td>\n",
       "      <td>31</td>\n",
       "      <td>7</td>\n",
       "      <td>2017</td>\n",
       "      <td>...</td>\n",
       "      <td>0</td>\n",
       "      <td>0</td>\n",
       "      <td>0</td>\n",
       "      <td>1</td>\n",
       "      <td>0</td>\n",
       "      <td>0</td>\n",
       "      <td>0</td>\n",
       "      <td>0</td>\n",
       "      <td>0</td>\n",
       "      <td>1</td>\n",
       "    </tr>\n",
       "    <tr>\n",
       "      <th>23029</th>\n",
       "      <td>1.099289e+18</td>\n",
       "      <td>1501598378</td>\n",
       "      <td>1</td>\n",
       "      <td>1501598378</td>\n",
       "      <td>1</td>\n",
       "      <td>2017-08-01</td>\n",
       "      <td>1</td>\n",
       "      <td>1</td>\n",
       "      <td>8</td>\n",
       "      <td>2017</td>\n",
       "      <td>...</td>\n",
       "      <td>0</td>\n",
       "      <td>0</td>\n",
       "      <td>0</td>\n",
       "      <td>1</td>\n",
       "      <td>0</td>\n",
       "      <td>0</td>\n",
       "      <td>0</td>\n",
       "      <td>0</td>\n",
       "      <td>0</td>\n",
       "      <td>1</td>\n",
       "    </tr>\n",
       "  </tbody>\n",
       "</table>\n",
       "<p>23030 rows × 231 columns</p>\n",
       "</div>"
      ],
      "text/plain": [
       "       fullVisitorId     visitId  visitNumber  visitStartTime  hits  \\\n",
       "0       8.112932e+18  1470276675            1      1470276675     1   \n",
       "1       1.293288e+18  1470379113            3      1470379113     2   \n",
       "2       5.233172e+18  1470352571            1      1470352571     1   \n",
       "3       7.553271e+18  1470324925            1      1470324925     5   \n",
       "4       7.942509e+18  1470323139            1      1470323139     1   \n",
       "...              ...         ...          ...             ...   ...   \n",
       "23025   2.205251e+17  1501515340            1      1501515340     7   \n",
       "23026   1.437044e+18  1501513186            1      1501513186     1   \n",
       "23027   7.707399e+18  1501553876            1      1501553876     2   \n",
       "23028   7.738385e+18  1501538396            1      1501538396     2   \n",
       "23029   1.099289e+18  1501598378            1      1501598378     1   \n",
       "\n",
       "            date  weekday  day  month  year  ...  source_direct  \\\n",
       "0     2016-08-03        2    3      8  2016  ...              0   \n",
       "1     2016-08-04        3    4      8  2016  ...              0   \n",
       "2     2016-08-04        3    4      8  2016  ...              0   \n",
       "3     2016-08-04        3    4      8  2016  ...              0   \n",
       "4     2016-08-04        3    4      8  2016  ...              0   \n",
       "...          ...      ...  ...    ...   ...  ...            ...   \n",
       "23025 2017-07-31        0   31      7  2017  ...              0   \n",
       "23026 2017-07-31        0   31      7  2017  ...              0   \n",
       "23027 2017-07-31        0   31      7  2017  ...              0   \n",
       "23028 2017-07-31        0   31      7  2017  ...              0   \n",
       "23029 2017-08-01        1    1      8  2017  ...              0   \n",
       "\n",
       "       source_google  source_mallgoogleplexcom  source_youtubecom  medium_cpc  \\\n",
       "0                  0                         0                  0           0   \n",
       "1                  0                         0                  0           0   \n",
       "2                  0                         0                  0           0   \n",
       "3                  0                         0                  0           0   \n",
       "4                  0                         0                  0           0   \n",
       "...              ...                       ...                ...         ...   \n",
       "23025              0                         0                  1           0   \n",
       "23026              0                         0                  1           0   \n",
       "23027              0                         0                  1           0   \n",
       "23028              0                         0                  1           0   \n",
       "23029              0                         0                  1           0   \n",
       "\n",
       "       medium_cpm  medium_none  medium_not set  medium_organic  \\\n",
       "0               0            0               0               0   \n",
       "1               0            0               0               0   \n",
       "2               0            0               0               0   \n",
       "3               0            0               0               0   \n",
       "4               0            0               0               0   \n",
       "...           ...          ...             ...             ...   \n",
       "23025           0            0               0               0   \n",
       "23026           0            0               0               0   \n",
       "23027           0            0               0               0   \n",
       "23028           0            0               0               0   \n",
       "23029           0            0               0               0   \n",
       "\n",
       "       medium_referral  \n",
       "0                    0  \n",
       "1                    0  \n",
       "2                    0  \n",
       "3                    0  \n",
       "4                    0  \n",
       "...                ...  \n",
       "23025                1  \n",
       "23026                1  \n",
       "23027                1  \n",
       "23028                1  \n",
       "23029                1  \n",
       "\n",
       "[23030 rows x 231 columns]"
      ]
     },
     "execution_count": 503,
     "metadata": {},
     "output_type": "execute_result"
    }
   ],
   "source": [
    "pd.get_dummies(features, drop_first = True)"
   ]
  },
  {
   "cell_type": "code",
   "execution_count": null,
   "id": "42e18a9b",
   "metadata": {},
   "outputs": [],
   "source": [
    "df.columns"
   ]
  },
  {
   "cell_type": "code",
   "execution_count": 638,
   "id": "11af3558",
   "metadata": {},
   "outputs": [],
   "source": [
    "features = df[['channelGrouping','fullVisitorId', 'visitId',\n",
    "       'visitNumber', 'visitStartTime', 'hits', \n",
    "       'browser', 'operatingSystem', 'isMobile','country', 'source', 'medium',\n",
    "        'weekday', 'day', 'month', 'year',\n",
    "       'visitHour']]\n",
    "## dropping pageviews because of high VIF and campaign due to little to no information\n",
    "## also dropping continent and subContinent\n",
    "target = df[['transactionRevenueBinom']]"
   ]
  },
  {
   "cell_type": "code",
   "execution_count": 639,
   "id": "2da037c9",
   "metadata": {},
   "outputs": [],
   "source": [
    "features_dummies = pd.get_dummies(features, drop_first = True)\n",
    "X_train, X_test, y_train, y_test = train_test_split(features_dummies, target, test_size=0.2, random_state=42)"
   ]
  },
  {
   "cell_type": "code",
   "execution_count": 640,
   "id": "f8b04051",
   "metadata": {},
   "outputs": [],
   "source": [
    "from sklearn.pipeline import Pipeline\n",
    "pipeline = Pipeline([\n",
    "                     ('scaler',StandardScaler()),\n",
    "                     ('model',Lasso())\n",
    "])"
   ]
  },
  {
   "cell_type": "code",
   "execution_count": 641,
   "id": "67b45f30",
   "metadata": {},
   "outputs": [],
   "source": [
    "search = GridSearchCV(pipeline,\n",
    "                      {'model__alpha':np.arange(0.1,10,0.1)},\n",
    "                      cv = 5, scoring=\"neg_mean_squared_error\",verbose=3\n",
    "                      )"
   ]
  },
  {
   "cell_type": "code",
   "execution_count": 642,
   "id": "8cdd0583",
   "metadata": {
    "scrolled": true
   },
   "outputs": [
    {
     "name": "stdout",
     "output_type": "stream",
     "text": [
      "Fitting 5 folds for each of 99 candidates, totalling 495 fits\n",
      "[CV 1/5] END ...............................model__alpha=0.1; total time=   0.2s\n",
      "[CV 2/5] END ...............................model__alpha=0.1; total time=   0.2s\n",
      "[CV 3/5] END ...............................model__alpha=0.1; total time=   0.2s\n",
      "[CV 4/5] END ...............................model__alpha=0.1; total time=   0.2s\n",
      "[CV 5/5] END ...............................model__alpha=0.1; total time=   0.2s\n",
      "[CV 1/5] END ...............................model__alpha=0.2; total time=   0.2s\n",
      "[CV 2/5] END ...............................model__alpha=0.2; total time=   0.2s\n",
      "[CV 3/5] END ...............................model__alpha=0.2; total time=   0.2s\n",
      "[CV 4/5] END ...............................model__alpha=0.2; total time=   0.2s\n",
      "[CV 5/5] END ...............................model__alpha=0.2; total time=   0.2s\n",
      "[CV 1/5] END ...............model__alpha=0.30000000000000004; total time=   0.2s\n",
      "[CV 2/5] END ...............model__alpha=0.30000000000000004; total time=   0.2s\n",
      "[CV 3/5] END ...............model__alpha=0.30000000000000004; total time=   0.2s\n",
      "[CV 4/5] END ...............model__alpha=0.30000000000000004; total time=   0.2s\n",
      "[CV 5/5] END ...............model__alpha=0.30000000000000004; total time=   0.2s\n",
      "[CV 1/5] END ...............................model__alpha=0.4; total time=   0.2s\n",
      "[CV 2/5] END ...............................model__alpha=0.4; total time=   0.2s\n",
      "[CV 3/5] END ...............................model__alpha=0.4; total time=   0.1s\n",
      "[CV 4/5] END ...............................model__alpha=0.4; total time=   0.2s\n",
      "[CV 5/5] END ...............................model__alpha=0.4; total time=   0.2s\n",
      "[CV 1/5] END ...............................model__alpha=0.5; total time=   0.2s\n",
      "[CV 2/5] END ...............................model__alpha=0.5; total time=   0.2s\n",
      "[CV 3/5] END ...............................model__alpha=0.5; total time=   0.2s\n",
      "[CV 4/5] END ...............................model__alpha=0.5; total time=   0.2s\n",
      "[CV 5/5] END ...............................model__alpha=0.5; total time=   0.2s\n",
      "[CV 1/5] END ...............................model__alpha=0.6; total time=   0.2s\n",
      "[CV 2/5] END ...............................model__alpha=0.6; total time=   0.2s\n",
      "[CV 3/5] END ...............................model__alpha=0.6; total time=   0.2s\n",
      "[CV 4/5] END ...............................model__alpha=0.6; total time=   0.2s\n",
      "[CV 5/5] END ...............................model__alpha=0.6; total time=   0.2s\n",
      "[CV 1/5] END ................model__alpha=0.7000000000000001; total time=   0.2s\n",
      "[CV 2/5] END ................model__alpha=0.7000000000000001; total time=   0.2s\n",
      "[CV 3/5] END ................model__alpha=0.7000000000000001; total time=   0.2s\n",
      "[CV 4/5] END ................model__alpha=0.7000000000000001; total time=   0.2s\n",
      "[CV 5/5] END ................model__alpha=0.7000000000000001; total time=   0.2s\n",
      "[CV 1/5] END ...............................model__alpha=0.8; total time=   0.2s\n",
      "[CV 2/5] END ...............................model__alpha=0.8; total time=   0.2s\n",
      "[CV 3/5] END ...............................model__alpha=0.8; total time=   0.2s\n",
      "[CV 4/5] END ...............................model__alpha=0.8; total time=   0.2s\n",
      "[CV 5/5] END ...............................model__alpha=0.8; total time=   0.2s\n",
      "[CV 1/5] END ...............................model__alpha=0.9; total time=   0.2s\n",
      "[CV 2/5] END ...............................model__alpha=0.9; total time=   0.2s\n",
      "[CV 3/5] END ...............................model__alpha=0.9; total time=   0.2s\n",
      "[CV 4/5] END ...............................model__alpha=0.9; total time=   0.2s\n",
      "[CV 5/5] END ...............................model__alpha=0.9; total time=   0.2s\n",
      "[CV 1/5] END ...............................model__alpha=1.0; total time=   0.2s\n",
      "[CV 2/5] END ...............................model__alpha=1.0; total time=   0.2s\n",
      "[CV 3/5] END ...............................model__alpha=1.0; total time=   0.2s\n",
      "[CV 4/5] END ...............................model__alpha=1.0; total time=   0.2s\n",
      "[CV 5/5] END ...............................model__alpha=1.0; total time=   0.2s\n",
      "[CV 1/5] END ...............................model__alpha=1.1; total time=   0.2s\n",
      "[CV 2/5] END ...............................model__alpha=1.1; total time=   0.2s\n",
      "[CV 3/5] END ...............................model__alpha=1.1; total time=   0.2s\n",
      "[CV 4/5] END ...............................model__alpha=1.1; total time=   0.2s\n",
      "[CV 5/5] END ...............................model__alpha=1.1; total time=   0.2s\n",
      "[CV 1/5] END ................model__alpha=1.2000000000000002; total time=   0.2s\n",
      "[CV 2/5] END ................model__alpha=1.2000000000000002; total time=   0.2s\n",
      "[CV 3/5] END ................model__alpha=1.2000000000000002; total time=   0.2s\n",
      "[CV 4/5] END ................model__alpha=1.2000000000000002; total time=   0.2s\n",
      "[CV 5/5] END ................model__alpha=1.2000000000000002; total time=   0.2s\n",
      "[CV 1/5] END ................model__alpha=1.3000000000000003; total time=   0.2s\n",
      "[CV 2/5] END ................model__alpha=1.3000000000000003; total time=   0.2s\n",
      "[CV 3/5] END ................model__alpha=1.3000000000000003; total time=   0.2s\n",
      "[CV 4/5] END ................model__alpha=1.3000000000000003; total time=   0.2s\n",
      "[CV 5/5] END ................model__alpha=1.3000000000000003; total time=   0.2s\n",
      "[CV 1/5] END ................model__alpha=1.4000000000000001; total time=   0.2s\n",
      "[CV 2/5] END ................model__alpha=1.4000000000000001; total time=   0.2s\n",
      "[CV 3/5] END ................model__alpha=1.4000000000000001; total time=   0.2s\n",
      "[CV 4/5] END ................model__alpha=1.4000000000000001; total time=   0.2s\n",
      "[CV 5/5] END ................model__alpha=1.4000000000000001; total time=   0.2s\n",
      "[CV 1/5] END ................model__alpha=1.5000000000000002; total time=   0.2s\n",
      "[CV 2/5] END ................model__alpha=1.5000000000000002; total time=   0.2s\n",
      "[CV 3/5] END ................model__alpha=1.5000000000000002; total time=   0.2s\n",
      "[CV 4/5] END ................model__alpha=1.5000000000000002; total time=   0.2s\n",
      "[CV 5/5] END ................model__alpha=1.5000000000000002; total time=   0.2s\n",
      "[CV 1/5] END ...............................model__alpha=1.6; total time=   0.2s\n",
      "[CV 2/5] END ...............................model__alpha=1.6; total time=   0.2s\n",
      "[CV 3/5] END ...............................model__alpha=1.6; total time=   0.2s\n",
      "[CV 4/5] END ...............................model__alpha=1.6; total time=   0.2s\n",
      "[CV 5/5] END ...............................model__alpha=1.6; total time=   0.2s\n",
      "[CV 1/5] END ................model__alpha=1.7000000000000002; total time=   0.1s\n",
      "[CV 2/5] END ................model__alpha=1.7000000000000002; total time=   0.2s\n",
      "[CV 3/5] END ................model__alpha=1.7000000000000002; total time=   0.2s\n",
      "[CV 4/5] END ................model__alpha=1.7000000000000002; total time=   0.2s\n",
      "[CV 5/5] END ................model__alpha=1.7000000000000002; total time=   0.2s\n",
      "[CV 1/5] END ................model__alpha=1.8000000000000003; total time=   0.2s\n",
      "[CV 2/5] END ................model__alpha=1.8000000000000003; total time=   0.2s\n",
      "[CV 3/5] END ................model__alpha=1.8000000000000003; total time=   0.2s\n",
      "[CV 4/5] END ................model__alpha=1.8000000000000003; total time=   0.2s\n",
      "[CV 5/5] END ................model__alpha=1.8000000000000003; total time=   0.2s\n",
      "[CV 1/5] END ................model__alpha=1.9000000000000001; total time=   0.2s\n",
      "[CV 2/5] END ................model__alpha=1.9000000000000001; total time=   0.2s\n",
      "[CV 3/5] END ................model__alpha=1.9000000000000001; total time=   0.2s\n",
      "[CV 4/5] END ................model__alpha=1.9000000000000001; total time=   0.2s\n",
      "[CV 5/5] END ................model__alpha=1.9000000000000001; total time=   0.2s\n",
      "[CV 1/5] END ...............................model__alpha=2.0; total time=   0.2s\n",
      "[CV 2/5] END ...............................model__alpha=2.0; total time=   0.2s\n",
      "[CV 3/5] END ...............................model__alpha=2.0; total time=   0.2s\n",
      "[CV 4/5] END ...............................model__alpha=2.0; total time=   0.2s\n",
      "[CV 5/5] END ...............................model__alpha=2.0; total time=   0.2s\n",
      "[CV 1/5] END ...............................model__alpha=2.1; total time=   0.2s\n"
     ]
    },
    {
     "name": "stdout",
     "output_type": "stream",
     "text": [
      "[CV 2/5] END ...............................model__alpha=2.1; total time=   0.2s\n",
      "[CV 3/5] END ...............................model__alpha=2.1; total time=   0.2s\n",
      "[CV 4/5] END ...............................model__alpha=2.1; total time=   0.2s\n",
      "[CV 5/5] END ...............................model__alpha=2.1; total time=   0.2s\n",
      "[CV 1/5] END ...............................model__alpha=2.2; total time=   0.2s\n",
      "[CV 2/5] END ...............................model__alpha=2.2; total time=   0.2s\n",
      "[CV 3/5] END ...............................model__alpha=2.2; total time=   0.2s\n",
      "[CV 4/5] END ...............................model__alpha=2.2; total time=   0.2s\n",
      "[CV 5/5] END ...............................model__alpha=2.2; total time=   0.2s\n",
      "[CV 1/5] END ................model__alpha=2.3000000000000003; total time=   0.2s\n",
      "[CV 2/5] END ................model__alpha=2.3000000000000003; total time=   0.2s\n",
      "[CV 3/5] END ................model__alpha=2.3000000000000003; total time=   0.2s\n",
      "[CV 4/5] END ................model__alpha=2.3000000000000003; total time=   0.2s\n",
      "[CV 5/5] END ................model__alpha=2.3000000000000003; total time=   0.2s\n",
      "[CV 1/5] END ................model__alpha=2.4000000000000004; total time=   0.2s\n",
      "[CV 2/5] END ................model__alpha=2.4000000000000004; total time=   0.2s\n",
      "[CV 3/5] END ................model__alpha=2.4000000000000004; total time=   0.2s\n",
      "[CV 4/5] END ................model__alpha=2.4000000000000004; total time=   0.2s\n",
      "[CV 5/5] END ................model__alpha=2.4000000000000004; total time=   0.2s\n",
      "[CV 1/5] END ................model__alpha=2.5000000000000004; total time=   0.2s\n",
      "[CV 2/5] END ................model__alpha=2.5000000000000004; total time=   0.2s\n",
      "[CV 3/5] END ................model__alpha=2.5000000000000004; total time=   0.2s\n",
      "[CV 4/5] END ................model__alpha=2.5000000000000004; total time=   0.2s\n",
      "[CV 5/5] END ................model__alpha=2.5000000000000004; total time=   0.2s\n",
      "[CV 1/5] END ...............................model__alpha=2.6; total time=   0.2s\n",
      "[CV 2/5] END ...............................model__alpha=2.6; total time=   0.2s\n",
      "[CV 3/5] END ...............................model__alpha=2.6; total time=   0.2s\n",
      "[CV 4/5] END ...............................model__alpha=2.6; total time=   0.2s\n",
      "[CV 5/5] END ...............................model__alpha=2.6; total time=   0.2s\n",
      "[CV 1/5] END ...............................model__alpha=2.7; total time=   0.2s\n",
      "[CV 2/5] END ...............................model__alpha=2.7; total time=   0.2s\n",
      "[CV 3/5] END ...............................model__alpha=2.7; total time=   0.2s\n",
      "[CV 4/5] END ...............................model__alpha=2.7; total time=   0.2s\n",
      "[CV 5/5] END ...............................model__alpha=2.7; total time=   0.2s\n",
      "[CV 1/5] END ................model__alpha=2.8000000000000003; total time=   0.2s\n",
      "[CV 2/5] END ................model__alpha=2.8000000000000003; total time=   0.2s\n",
      "[CV 3/5] END ................model__alpha=2.8000000000000003; total time=   0.2s\n",
      "[CV 4/5] END ................model__alpha=2.8000000000000003; total time=   0.2s\n",
      "[CV 5/5] END ................model__alpha=2.8000000000000003; total time=   0.2s\n",
      "[CV 1/5] END ................model__alpha=2.9000000000000004; total time=   0.2s\n",
      "[CV 2/5] END ................model__alpha=2.9000000000000004; total time=   0.2s\n",
      "[CV 3/5] END ................model__alpha=2.9000000000000004; total time=   0.2s\n",
      "[CV 4/5] END ................model__alpha=2.9000000000000004; total time=   0.2s\n",
      "[CV 5/5] END ................model__alpha=2.9000000000000004; total time=   0.2s\n",
      "[CV 1/5] END ................model__alpha=3.0000000000000004; total time=   0.2s\n",
      "[CV 2/5] END ................model__alpha=3.0000000000000004; total time=   0.2s\n",
      "[CV 3/5] END ................model__alpha=3.0000000000000004; total time=   0.2s\n",
      "[CV 4/5] END ................model__alpha=3.0000000000000004; total time=   0.2s\n",
      "[CV 5/5] END ................model__alpha=3.0000000000000004; total time=   0.2s\n",
      "[CV 1/5] END ...............................model__alpha=3.1; total time=   0.2s\n",
      "[CV 2/5] END ...............................model__alpha=3.1; total time=   0.2s\n",
      "[CV 3/5] END ...............................model__alpha=3.1; total time=   0.2s\n",
      "[CV 4/5] END ...............................model__alpha=3.1; total time=   0.2s\n",
      "[CV 5/5] END ...............................model__alpha=3.1; total time=   0.2s\n",
      "[CV 1/5] END ...............................model__alpha=3.2; total time=   0.2s\n",
      "[CV 2/5] END ...............................model__alpha=3.2; total time=   0.2s\n",
      "[CV 3/5] END ...............................model__alpha=3.2; total time=   0.2s\n",
      "[CV 4/5] END ...............................model__alpha=3.2; total time=   0.2s\n",
      "[CV 5/5] END ...............................model__alpha=3.2; total time=   0.2s\n",
      "[CV 1/5] END ................model__alpha=3.3000000000000003; total time=   0.2s\n",
      "[CV 2/5] END ................model__alpha=3.3000000000000003; total time=   0.2s\n",
      "[CV 3/5] END ................model__alpha=3.3000000000000003; total time=   0.2s\n",
      "[CV 4/5] END ................model__alpha=3.3000000000000003; total time=   0.2s\n",
      "[CV 5/5] END ................model__alpha=3.3000000000000003; total time=   0.2s\n",
      "[CV 1/5] END ................model__alpha=3.4000000000000004; total time=   0.1s\n",
      "[CV 2/5] END ................model__alpha=3.4000000000000004; total time=   0.1s\n",
      "[CV 3/5] END ................model__alpha=3.4000000000000004; total time=   0.2s\n",
      "[CV 4/5] END ................model__alpha=3.4000000000000004; total time=   0.3s\n",
      "[CV 5/5] END ................model__alpha=3.4000000000000004; total time=   0.2s\n",
      "[CV 1/5] END ................model__alpha=3.5000000000000004; total time=   0.1s\n",
      "[CV 2/5] END ................model__alpha=3.5000000000000004; total time=   0.2s\n",
      "[CV 3/5] END ................model__alpha=3.5000000000000004; total time=   0.2s\n",
      "[CV 4/5] END ................model__alpha=3.5000000000000004; total time=   0.2s\n",
      "[CV 5/5] END ................model__alpha=3.5000000000000004; total time=   0.2s\n",
      "[CV 1/5] END ...............................model__alpha=3.6; total time=   0.2s\n",
      "[CV 2/5] END ...............................model__alpha=3.6; total time=   0.2s\n",
      "[CV 3/5] END ...............................model__alpha=3.6; total time=   0.2s\n",
      "[CV 4/5] END ...............................model__alpha=3.6; total time=   0.2s\n",
      "[CV 5/5] END ...............................model__alpha=3.6; total time=   0.2s\n",
      "[CV 1/5] END ...............................model__alpha=3.7; total time=   0.2s\n",
      "[CV 2/5] END ...............................model__alpha=3.7; total time=   0.2s\n",
      "[CV 3/5] END ...............................model__alpha=3.7; total time=   0.2s\n",
      "[CV 4/5] END ...............................model__alpha=3.7; total time=   0.2s\n",
      "[CV 5/5] END ...............................model__alpha=3.7; total time=   0.2s\n",
      "[CV 1/5] END ................model__alpha=3.8000000000000003; total time=   0.2s\n",
      "[CV 2/5] END ................model__alpha=3.8000000000000003; total time=   0.2s\n",
      "[CV 3/5] END ................model__alpha=3.8000000000000003; total time=   0.2s\n",
      "[CV 4/5] END ................model__alpha=3.8000000000000003; total time=   0.2s\n",
      "[CV 5/5] END ................model__alpha=3.8000000000000003; total time=   0.2s\n",
      "[CV 1/5] END ................model__alpha=3.9000000000000004; total time=   0.2s\n",
      "[CV 2/5] END ................model__alpha=3.9000000000000004; total time=   0.2s\n",
      "[CV 3/5] END ................model__alpha=3.9000000000000004; total time=   0.2s\n",
      "[CV 4/5] END ................model__alpha=3.9000000000000004; total time=   0.2s\n",
      "[CV 5/5] END ................model__alpha=3.9000000000000004; total time=   0.2s\n",
      "[CV 1/5] END ...............................model__alpha=4.0; total time=   0.2s\n",
      "[CV 2/5] END ...............................model__alpha=4.0; total time=   0.2s\n",
      "[CV 3/5] END ...............................model__alpha=4.0; total time=   0.2s\n",
      "[CV 4/5] END ...............................model__alpha=4.0; total time=   0.2s\n",
      "[CV 5/5] END ...............................model__alpha=4.0; total time=   0.2s\n",
      "[CV 1/5] END ...............................model__alpha=4.1; total time=   0.2s\n",
      "[CV 2/5] END ...............................model__alpha=4.1; total time=   0.2s\n",
      "[CV 3/5] END ...............................model__alpha=4.1; total time=   0.2s\n"
     ]
    },
    {
     "name": "stdout",
     "output_type": "stream",
     "text": [
      "[CV 4/5] END ...............................model__alpha=4.1; total time=   0.2s\n",
      "[CV 5/5] END ...............................model__alpha=4.1; total time=   0.2s\n",
      "[CV 1/5] END ...............................model__alpha=4.2; total time=   0.2s\n",
      "[CV 2/5] END ...............................model__alpha=4.2; total time=   0.2s\n",
      "[CV 3/5] END ...............................model__alpha=4.2; total time=   0.2s\n",
      "[CV 4/5] END ...............................model__alpha=4.2; total time=   0.2s\n",
      "[CV 5/5] END ...............................model__alpha=4.2; total time=   0.2s\n",
      "[CV 1/5] END ...............................model__alpha=4.3; total time=   0.2s\n",
      "[CV 2/5] END ...............................model__alpha=4.3; total time=   0.2s\n",
      "[CV 3/5] END ...............................model__alpha=4.3; total time=   0.2s\n",
      "[CV 4/5] END ...............................model__alpha=4.3; total time=   0.2s\n",
      "[CV 5/5] END ...............................model__alpha=4.3; total time=   0.2s\n",
      "[CV 1/5] END ................model__alpha=4.3999999999999995; total time=   0.2s\n",
      "[CV 2/5] END ................model__alpha=4.3999999999999995; total time=   0.2s\n",
      "[CV 3/5] END ................model__alpha=4.3999999999999995; total time=   0.2s\n",
      "[CV 4/5] END ................model__alpha=4.3999999999999995; total time=   0.2s\n",
      "[CV 5/5] END ................model__alpha=4.3999999999999995; total time=   0.2s\n",
      "[CV 1/5] END ...............................model__alpha=4.5; total time=   0.2s\n",
      "[CV 2/5] END ...............................model__alpha=4.5; total time=   0.2s\n",
      "[CV 3/5] END ...............................model__alpha=4.5; total time=   0.2s\n",
      "[CV 4/5] END ...............................model__alpha=4.5; total time=   0.2s\n",
      "[CV 5/5] END ...............................model__alpha=4.5; total time=   0.2s\n",
      "[CV 1/5] END ...............................model__alpha=4.6; total time=   0.2s\n",
      "[CV 2/5] END ...............................model__alpha=4.6; total time=   0.2s\n",
      "[CV 3/5] END ...............................model__alpha=4.6; total time=   0.2s\n",
      "[CV 4/5] END ...............................model__alpha=4.6; total time=   0.2s\n",
      "[CV 5/5] END ...............................model__alpha=4.6; total time=   0.2s\n",
      "[CV 1/5] END ...............................model__alpha=4.7; total time=   0.2s\n",
      "[CV 2/5] END ...............................model__alpha=4.7; total time=   0.2s\n",
      "[CV 3/5] END ...............................model__alpha=4.7; total time=   0.2s\n",
      "[CV 4/5] END ...............................model__alpha=4.7; total time=   0.2s\n",
      "[CV 5/5] END ...............................model__alpha=4.7; total time=   0.2s\n",
      "[CV 1/5] END ...............................model__alpha=4.8; total time=   0.2s\n",
      "[CV 2/5] END ...............................model__alpha=4.8; total time=   0.2s\n",
      "[CV 3/5] END ...............................model__alpha=4.8; total time=   0.2s\n",
      "[CV 4/5] END ...............................model__alpha=4.8; total time=   0.2s\n",
      "[CV 5/5] END ...............................model__alpha=4.8; total time=   0.2s\n",
      "[CV 1/5] END ...............................model__alpha=4.9; total time=   0.2s\n",
      "[CV 2/5] END ...............................model__alpha=4.9; total time=   0.2s\n",
      "[CV 3/5] END ...............................model__alpha=4.9; total time=   0.2s\n",
      "[CV 4/5] END ...............................model__alpha=4.9; total time=   0.2s\n",
      "[CV 5/5] END ...............................model__alpha=4.9; total time=   0.2s\n",
      "[CV 1/5] END ...............................model__alpha=5.0; total time=   0.2s\n",
      "[CV 2/5] END ...............................model__alpha=5.0; total time=   0.2s\n",
      "[CV 3/5] END ...............................model__alpha=5.0; total time=   0.2s\n",
      "[CV 4/5] END ...............................model__alpha=5.0; total time=   0.2s\n",
      "[CV 5/5] END ...............................model__alpha=5.0; total time=   0.2s\n",
      "[CV 1/5] END ...............................model__alpha=5.1; total time=   0.2s\n",
      "[CV 2/5] END ...............................model__alpha=5.1; total time=   0.2s\n",
      "[CV 3/5] END ...............................model__alpha=5.1; total time=   0.2s\n",
      "[CV 4/5] END ...............................model__alpha=5.1; total time=   0.2s\n",
      "[CV 5/5] END ...............................model__alpha=5.1; total time=   0.1s\n",
      "[CV 1/5] END ...............................model__alpha=5.2; total time=   0.2s\n",
      "[CV 2/5] END ...............................model__alpha=5.2; total time=   0.2s\n",
      "[CV 3/5] END ...............................model__alpha=5.2; total time=   0.2s\n",
      "[CV 4/5] END ...............................model__alpha=5.2; total time=   0.2s\n",
      "[CV 5/5] END ...............................model__alpha=5.2; total time=   0.2s\n",
      "[CV 1/5] END ...............................model__alpha=5.3; total time=   0.2s\n",
      "[CV 2/5] END ...............................model__alpha=5.3; total time=   0.2s\n",
      "[CV 3/5] END ...............................model__alpha=5.3; total time=   0.2s\n",
      "[CV 4/5] END ...............................model__alpha=5.3; total time=   0.2s\n",
      "[CV 5/5] END ...............................model__alpha=5.3; total time=   0.2s\n",
      "[CV 1/5] END ...............................model__alpha=5.4; total time=   0.2s\n",
      "[CV 2/5] END ...............................model__alpha=5.4; total time=   0.2s\n",
      "[CV 3/5] END ...............................model__alpha=5.4; total time=   0.2s\n",
      "[CV 4/5] END ...............................model__alpha=5.4; total time=   0.2s\n",
      "[CV 5/5] END ...............................model__alpha=5.4; total time=   0.2s\n",
      "[CV 1/5] END ...............................model__alpha=5.5; total time=   0.2s\n",
      "[CV 2/5] END ...............................model__alpha=5.5; total time=   0.2s\n",
      "[CV 3/5] END ...............................model__alpha=5.5; total time=   0.2s\n",
      "[CV 4/5] END ...............................model__alpha=5.5; total time=   0.2s\n",
      "[CV 5/5] END ...............................model__alpha=5.5; total time=   0.2s\n",
      "[CV 1/5] END ...............................model__alpha=5.6; total time=   0.2s\n",
      "[CV 2/5] END ...............................model__alpha=5.6; total time=   0.2s\n",
      "[CV 3/5] END ...............................model__alpha=5.6; total time=   0.2s\n",
      "[CV 4/5] END ...............................model__alpha=5.6; total time=   0.2s\n",
      "[CV 5/5] END ...............................model__alpha=5.6; total time=   0.2s\n",
      "[CV 1/5] END ...............................model__alpha=5.7; total time=   0.2s\n",
      "[CV 2/5] END ...............................model__alpha=5.7; total time=   0.2s\n",
      "[CV 3/5] END ...............................model__alpha=5.7; total time=   0.2s\n",
      "[CV 4/5] END ...............................model__alpha=5.7; total time=   0.2s\n",
      "[CV 5/5] END ...............................model__alpha=5.7; total time=   0.2s\n",
      "[CV 1/5] END ...............................model__alpha=5.8; total time=   0.2s\n",
      "[CV 2/5] END ...............................model__alpha=5.8; total time=   0.2s\n",
      "[CV 3/5] END ...............................model__alpha=5.8; total time=   0.2s\n",
      "[CV 4/5] END ...............................model__alpha=5.8; total time=   0.2s\n",
      "[CV 5/5] END ...............................model__alpha=5.8; total time=   0.2s\n",
      "[CV 1/5] END ...............................model__alpha=5.9; total time=   0.2s\n",
      "[CV 2/5] END ...............................model__alpha=5.9; total time=   0.2s\n",
      "[CV 3/5] END ...............................model__alpha=5.9; total time=   0.2s\n",
      "[CV 4/5] END ...............................model__alpha=5.9; total time=   0.2s\n",
      "[CV 5/5] END ...............................model__alpha=5.9; total time=   0.2s\n",
      "[CV 1/5] END ...............................model__alpha=6.0; total time=   0.2s\n",
      "[CV 2/5] END ...............................model__alpha=6.0; total time=   0.2s\n",
      "[CV 3/5] END ...............................model__alpha=6.0; total time=   0.2s\n",
      "[CV 4/5] END ...............................model__alpha=6.0; total time=   0.2s\n",
      "[CV 5/5] END ...............................model__alpha=6.0; total time=   0.2s\n",
      "[CV 1/5] END ...............................model__alpha=6.1; total time=   0.2s\n",
      "[CV 2/5] END ...............................model__alpha=6.1; total time=   0.2s\n",
      "[CV 3/5] END ...............................model__alpha=6.1; total time=   0.2s\n",
      "[CV 4/5] END ...............................model__alpha=6.1; total time=   0.2s\n",
      "[CV 5/5] END ...............................model__alpha=6.1; total time=   0.2s\n"
     ]
    },
    {
     "name": "stdout",
     "output_type": "stream",
     "text": [
      "[CV 1/5] END ...............................model__alpha=6.2; total time=   0.2s\n",
      "[CV 2/5] END ...............................model__alpha=6.2; total time=   0.2s\n",
      "[CV 3/5] END ...............................model__alpha=6.2; total time=   0.2s\n",
      "[CV 4/5] END ...............................model__alpha=6.2; total time=   0.2s\n",
      "[CV 5/5] END ...............................model__alpha=6.2; total time=   0.2s\n",
      "[CV 1/5] END ...............................model__alpha=6.3; total time=   0.2s\n",
      "[CV 2/5] END ...............................model__alpha=6.3; total time=   0.2s\n",
      "[CV 3/5] END ...............................model__alpha=6.3; total time=   0.2s\n",
      "[CV 4/5] END ...............................model__alpha=6.3; total time=   0.2s\n",
      "[CV 5/5] END ...............................model__alpha=6.3; total time=   0.1s\n",
      "[CV 1/5] END ...............................model__alpha=6.4; total time=   0.2s\n",
      "[CV 2/5] END ...............................model__alpha=6.4; total time=   0.2s\n",
      "[CV 3/5] END ...............................model__alpha=6.4; total time=   0.2s\n",
      "[CV 4/5] END ...............................model__alpha=6.4; total time=   0.2s\n",
      "[CV 5/5] END ...............................model__alpha=6.4; total time=   0.2s\n",
      "[CV 1/5] END ...............................model__alpha=6.5; total time=   0.2s\n",
      "[CV 2/5] END ...............................model__alpha=6.5; total time=   0.2s\n",
      "[CV 3/5] END ...............................model__alpha=6.5; total time=   0.2s\n",
      "[CV 4/5] END ...............................model__alpha=6.5; total time=   0.2s\n",
      "[CV 5/5] END ...............................model__alpha=6.5; total time=   0.2s\n",
      "[CV 1/5] END ...............................model__alpha=6.6; total time=   0.2s\n",
      "[CV 2/5] END ...............................model__alpha=6.6; total time=   0.2s\n",
      "[CV 3/5] END ...............................model__alpha=6.6; total time=   0.2s\n",
      "[CV 4/5] END ...............................model__alpha=6.6; total time=   0.2s\n",
      "[CV 5/5] END ...............................model__alpha=6.6; total time=   0.2s\n",
      "[CV 1/5] END ...............................model__alpha=6.7; total time=   0.2s\n",
      "[CV 2/5] END ...............................model__alpha=6.7; total time=   0.2s\n",
      "[CV 3/5] END ...............................model__alpha=6.7; total time=   0.2s\n",
      "[CV 4/5] END ...............................model__alpha=6.7; total time=   0.2s\n",
      "[CV 5/5] END ...............................model__alpha=6.7; total time=   0.2s\n",
      "[CV 1/5] END ...............................model__alpha=6.8; total time=   0.2s\n",
      "[CV 2/5] END ...............................model__alpha=6.8; total time=   0.2s\n",
      "[CV 3/5] END ...............................model__alpha=6.8; total time=   0.2s\n",
      "[CV 4/5] END ...............................model__alpha=6.8; total time=   0.2s\n",
      "[CV 5/5] END ...............................model__alpha=6.8; total time=   0.2s\n",
      "[CV 1/5] END ...............................model__alpha=6.9; total time=   0.2s\n",
      "[CV 2/5] END ...............................model__alpha=6.9; total time=   0.2s\n",
      "[CV 3/5] END ...............................model__alpha=6.9; total time=   0.2s\n",
      "[CV 4/5] END ...............................model__alpha=6.9; total time=   0.2s\n",
      "[CV 5/5] END ...............................model__alpha=6.9; total time=   0.2s\n",
      "[CV 1/5] END ...............................model__alpha=7.0; total time=   0.2s\n",
      "[CV 2/5] END ...............................model__alpha=7.0; total time=   0.2s\n",
      "[CV 3/5] END ...............................model__alpha=7.0; total time=   0.2s\n",
      "[CV 4/5] END ...............................model__alpha=7.0; total time=   0.2s\n",
      "[CV 5/5] END ...............................model__alpha=7.0; total time=   0.2s\n",
      "[CV 1/5] END ...............................model__alpha=7.1; total time=   0.2s\n",
      "[CV 2/5] END ...............................model__alpha=7.1; total time=   0.2s\n",
      "[CV 3/5] END ...............................model__alpha=7.1; total time=   0.2s\n",
      "[CV 4/5] END ...............................model__alpha=7.1; total time=   0.2s\n",
      "[CV 5/5] END ...............................model__alpha=7.1; total time=   0.2s\n",
      "[CV 1/5] END ...............................model__alpha=7.2; total time=   0.2s\n",
      "[CV 2/5] END ...............................model__alpha=7.2; total time=   0.2s\n",
      "[CV 3/5] END ...............................model__alpha=7.2; total time=   0.2s\n",
      "[CV 4/5] END ...............................model__alpha=7.2; total time=   0.2s\n",
      "[CV 5/5] END ...............................model__alpha=7.2; total time=   0.2s\n",
      "[CV 1/5] END ...............................model__alpha=7.3; total time=   0.2s\n",
      "[CV 2/5] END ...............................model__alpha=7.3; total time=   0.2s\n",
      "[CV 3/5] END ...............................model__alpha=7.3; total time=   0.2s\n",
      "[CV 4/5] END ...............................model__alpha=7.3; total time=   0.2s\n",
      "[CV 5/5] END ...............................model__alpha=7.3; total time=   0.2s\n",
      "[CV 1/5] END ...............................model__alpha=7.4; total time=   0.2s\n",
      "[CV 2/5] END ...............................model__alpha=7.4; total time=   0.2s\n",
      "[CV 3/5] END ...............................model__alpha=7.4; total time=   0.2s\n",
      "[CV 4/5] END ...............................model__alpha=7.4; total time=   0.2s\n",
      "[CV 5/5] END ...............................model__alpha=7.4; total time=   0.2s\n",
      "[CV 1/5] END ...............................model__alpha=7.5; total time=   0.2s\n",
      "[CV 2/5] END ...............................model__alpha=7.5; total time=   0.2s\n",
      "[CV 3/5] END ...............................model__alpha=7.5; total time=   0.2s\n",
      "[CV 4/5] END ...............................model__alpha=7.5; total time=   0.2s\n",
      "[CV 5/5] END ...............................model__alpha=7.5; total time=   0.2s\n",
      "[CV 1/5] END ...............................model__alpha=7.6; total time=   0.2s\n",
      "[CV 2/5] END ...............................model__alpha=7.6; total time=   0.2s\n",
      "[CV 3/5] END ...............................model__alpha=7.6; total time=   0.2s\n",
      "[CV 4/5] END ...............................model__alpha=7.6; total time=   0.2s\n",
      "[CV 5/5] END ...............................model__alpha=7.6; total time=   0.2s\n",
      "[CV 1/5] END ...............................model__alpha=7.7; total time=   0.2s\n",
      "[CV 2/5] END ...............................model__alpha=7.7; total time=   0.2s\n",
      "[CV 3/5] END ...............................model__alpha=7.7; total time=   0.2s\n",
      "[CV 4/5] END ...............................model__alpha=7.7; total time=   0.2s\n",
      "[CV 5/5] END ...............................model__alpha=7.7; total time=   0.2s\n",
      "[CV 1/5] END ...............................model__alpha=7.8; total time=   0.2s\n",
      "[CV 2/5] END ...............................model__alpha=7.8; total time=   0.2s\n",
      "[CV 3/5] END ...............................model__alpha=7.8; total time=   0.2s\n",
      "[CV 4/5] END ...............................model__alpha=7.8; total time=   0.2s\n",
      "[CV 5/5] END ...............................model__alpha=7.8; total time=   0.2s\n",
      "[CV 1/5] END ...............................model__alpha=7.9; total time=   0.2s\n",
      "[CV 2/5] END ...............................model__alpha=7.9; total time=   0.2s\n",
      "[CV 3/5] END ...............................model__alpha=7.9; total time=   0.2s\n",
      "[CV 4/5] END ...............................model__alpha=7.9; total time=   0.2s\n",
      "[CV 5/5] END ...............................model__alpha=7.9; total time=   0.2s\n",
      "[CV 1/5] END ...............................model__alpha=8.0; total time=   0.2s\n",
      "[CV 2/5] END ...............................model__alpha=8.0; total time=   0.2s\n",
      "[CV 3/5] END ...............................model__alpha=8.0; total time=   0.2s\n",
      "[CV 4/5] END ...............................model__alpha=8.0; total time=   0.2s\n",
      "[CV 5/5] END ...............................model__alpha=8.0; total time=   0.2s\n",
      "[CV 1/5] END ...............................model__alpha=8.1; total time=   0.2s\n",
      "[CV 2/5] END ...............................model__alpha=8.1; total time=   0.2s\n",
      "[CV 3/5] END ...............................model__alpha=8.1; total time=   0.2s\n",
      "[CV 4/5] END ...............................model__alpha=8.1; total time=   0.2s\n",
      "[CV 5/5] END ...............................model__alpha=8.1; total time=   0.2s\n",
      "[CV 1/5] END ...............................model__alpha=8.2; total time=   0.2s\n",
      "[CV 2/5] END ...............................model__alpha=8.2; total time=   0.2s\n"
     ]
    },
    {
     "name": "stdout",
     "output_type": "stream",
     "text": [
      "[CV 3/5] END ...............................model__alpha=8.2; total time=   0.2s\n",
      "[CV 4/5] END ...............................model__alpha=8.2; total time=   0.2s\n",
      "[CV 5/5] END ...............................model__alpha=8.2; total time=   0.2s\n",
      "[CV 1/5] END ...............................model__alpha=8.3; total time=   0.2s\n",
      "[CV 2/5] END ...............................model__alpha=8.3; total time=   0.2s\n",
      "[CV 3/5] END ...............................model__alpha=8.3; total time=   0.2s\n",
      "[CV 4/5] END ...............................model__alpha=8.3; total time=   0.2s\n",
      "[CV 5/5] END ...............................model__alpha=8.3; total time=   0.2s\n",
      "[CV 1/5] END ...............................model__alpha=8.4; total time=   0.2s\n",
      "[CV 2/5] END ...............................model__alpha=8.4; total time=   0.2s\n",
      "[CV 3/5] END ...............................model__alpha=8.4; total time=   0.2s\n",
      "[CV 4/5] END ...............................model__alpha=8.4; total time=   0.2s\n",
      "[CV 5/5] END ...............................model__alpha=8.4; total time=   0.2s\n",
      "[CV 1/5] END ...............................model__alpha=8.5; total time=   0.1s\n",
      "[CV 2/5] END ...............................model__alpha=8.5; total time=   0.2s\n",
      "[CV 3/5] END ...............................model__alpha=8.5; total time=   0.2s\n",
      "[CV 4/5] END ...............................model__alpha=8.5; total time=   0.2s\n",
      "[CV 5/5] END ...............................model__alpha=8.5; total time=   0.2s\n",
      "[CV 1/5] END ...............................model__alpha=8.6; total time=   0.2s\n",
      "[CV 2/5] END ...............................model__alpha=8.6; total time=   0.2s\n",
      "[CV 3/5] END ...............................model__alpha=8.6; total time=   0.2s\n",
      "[CV 4/5] END ...............................model__alpha=8.6; total time=   0.2s\n",
      "[CV 5/5] END ...............................model__alpha=8.6; total time=   0.2s\n",
      "[CV 1/5] END ...............................model__alpha=8.7; total time=   0.2s\n",
      "[CV 2/5] END ...............................model__alpha=8.7; total time=   0.2s\n",
      "[CV 3/5] END ...............................model__alpha=8.7; total time=   0.2s\n",
      "[CV 4/5] END ...............................model__alpha=8.7; total time=   0.2s\n",
      "[CV 5/5] END ...............................model__alpha=8.7; total time=   0.2s\n",
      "[CV 1/5] END ...............................model__alpha=8.8; total time=   0.2s\n",
      "[CV 2/5] END ...............................model__alpha=8.8; total time=   0.2s\n",
      "[CV 3/5] END ...............................model__alpha=8.8; total time=   0.2s\n",
      "[CV 4/5] END ...............................model__alpha=8.8; total time=   0.2s\n",
      "[CV 5/5] END ...............................model__alpha=8.8; total time=   0.2s\n",
      "[CV 1/5] END ...............................model__alpha=8.9; total time=   0.2s\n",
      "[CV 2/5] END ...............................model__alpha=8.9; total time=   0.2s\n",
      "[CV 3/5] END ...............................model__alpha=8.9; total time=   0.2s\n",
      "[CV 4/5] END ...............................model__alpha=8.9; total time=   0.2s\n",
      "[CV 5/5] END ...............................model__alpha=8.9; total time=   0.2s\n",
      "[CV 1/5] END ...............................model__alpha=9.0; total time=   0.2s\n",
      "[CV 2/5] END ...............................model__alpha=9.0; total time=   0.2s\n",
      "[CV 3/5] END ...............................model__alpha=9.0; total time=   0.2s\n",
      "[CV 4/5] END ...............................model__alpha=9.0; total time=   0.2s\n",
      "[CV 5/5] END ...............................model__alpha=9.0; total time=   0.2s\n",
      "[CV 1/5] END ...............................model__alpha=9.1; total time=   0.2s\n",
      "[CV 2/5] END ...............................model__alpha=9.1; total time=   0.2s\n",
      "[CV 3/5] END ...............................model__alpha=9.1; total time=   0.2s\n",
      "[CV 4/5] END ...............................model__alpha=9.1; total time=   0.2s\n",
      "[CV 5/5] END ...............................model__alpha=9.1; total time=   0.2s\n",
      "[CV 1/5] END ...............................model__alpha=9.2; total time=   0.2s\n",
      "[CV 2/5] END ...............................model__alpha=9.2; total time=   0.2s\n",
      "[CV 3/5] END ...............................model__alpha=9.2; total time=   0.2s\n",
      "[CV 4/5] END ...............................model__alpha=9.2; total time=   0.2s\n",
      "[CV 5/5] END ...............................model__alpha=9.2; total time=   0.2s\n",
      "[CV 1/5] END ...............................model__alpha=9.3; total time=   0.2s\n",
      "[CV 2/5] END ...............................model__alpha=9.3; total time=   0.2s\n",
      "[CV 3/5] END ...............................model__alpha=9.3; total time=   0.2s\n",
      "[CV 4/5] END ...............................model__alpha=9.3; total time=   0.2s\n",
      "[CV 5/5] END ...............................model__alpha=9.3; total time=   0.2s\n",
      "[CV 1/5] END ...............................model__alpha=9.4; total time=   0.2s\n",
      "[CV 2/5] END ...............................model__alpha=9.4; total time=   0.2s\n",
      "[CV 3/5] END ...............................model__alpha=9.4; total time=   0.2s\n",
      "[CV 4/5] END ...............................model__alpha=9.4; total time=   0.2s\n",
      "[CV 5/5] END ...............................model__alpha=9.4; total time=   0.2s\n",
      "[CV 1/5] END ...............................model__alpha=9.5; total time=   0.2s\n",
      "[CV 2/5] END ...............................model__alpha=9.5; total time=   0.2s\n",
      "[CV 3/5] END ...............................model__alpha=9.5; total time=   0.2s\n",
      "[CV 4/5] END ...............................model__alpha=9.5; total time=   0.2s\n",
      "[CV 5/5] END ...............................model__alpha=9.5; total time=   0.2s\n",
      "[CV 1/5] END ...............................model__alpha=9.6; total time=   0.2s\n",
      "[CV 2/5] END ...............................model__alpha=9.6; total time=   0.2s\n",
      "[CV 3/5] END ...............................model__alpha=9.6; total time=   0.2s\n",
      "[CV 4/5] END ...............................model__alpha=9.6; total time=   0.2s\n",
      "[CV 5/5] END ...............................model__alpha=9.6; total time=   0.2s\n",
      "[CV 1/5] END .................model__alpha=9.700000000000001; total time=   0.2s\n",
      "[CV 2/5] END .................model__alpha=9.700000000000001; total time=   0.2s\n",
      "[CV 3/5] END .................model__alpha=9.700000000000001; total time=   0.2s\n",
      "[CV 4/5] END .................model__alpha=9.700000000000001; total time=   0.2s\n",
      "[CV 5/5] END .................model__alpha=9.700000000000001; total time=   0.2s\n",
      "[CV 1/5] END ...............................model__alpha=9.8; total time=   0.2s\n",
      "[CV 2/5] END ...............................model__alpha=9.8; total time=   0.2s\n",
      "[CV 3/5] END ...............................model__alpha=9.8; total time=   0.2s\n",
      "[CV 4/5] END ...............................model__alpha=9.8; total time=   0.2s\n",
      "[CV 5/5] END ...............................model__alpha=9.8; total time=   0.2s\n",
      "[CV 1/5] END ...............................model__alpha=9.9; total time=   0.2s\n",
      "[CV 2/5] END ...............................model__alpha=9.9; total time=   0.2s\n",
      "[CV 3/5] END ...............................model__alpha=9.9; total time=   0.2s\n",
      "[CV 4/5] END ...............................model__alpha=9.9; total time=   0.2s\n",
      "[CV 5/5] END ...............................model__alpha=9.9; total time=   0.2s\n"
     ]
    },
    {
     "data": {
      "text/plain": [
       "GridSearchCV(cv=5,\n",
       "             estimator=Pipeline(steps=[('scaler', StandardScaler()),\n",
       "                                       ('model', Lasso())]),\n",
       "             param_grid={'model__alpha': array([0.1, 0.2, 0.3, 0.4, 0.5, 0.6, 0.7, 0.8, 0.9, 1. , 1.1, 1.2, 1.3,\n",
       "       1.4, 1.5, 1.6, 1.7, 1.8, 1.9, 2. , 2.1, 2.2, 2.3, 2.4, 2.5, 2.6,\n",
       "       2.7, 2.8, 2.9, 3. , 3.1, 3.2, 3.3, 3.4, 3.5, 3.6, 3.7, 3.8, 3.9,\n",
       "       4. , 4.1, 4.2, 4.3, 4.4, 4.5, 4.6, 4.7, 4.8, 4.9, 5. , 5.1, 5.2,\n",
       "       5.3, 5.4, 5.5, 5.6, 5.7, 5.8, 5.9, 6. , 6.1, 6.2, 6.3, 6.4, 6.5,\n",
       "       6.6, 6.7, 6.8, 6.9, 7. , 7.1, 7.2, 7.3, 7.4, 7.5, 7.6, 7.7, 7.8,\n",
       "       7.9, 8. , 8.1, 8.2, 8.3, 8.4, 8.5, 8.6, 8.7, 8.8, 8.9, 9. , 9.1,\n",
       "       9.2, 9.3, 9.4, 9.5, 9.6, 9.7, 9.8, 9.9])},\n",
       "             scoring='neg_mean_squared_error', verbose=3)"
      ]
     },
     "execution_count": 642,
     "metadata": {},
     "output_type": "execute_result"
    }
   ],
   "source": [
    "search.fit(X_train,y_train)"
   ]
  },
  {
   "cell_type": "code",
   "execution_count": 643,
   "id": "40871d29",
   "metadata": {},
   "outputs": [
    {
     "data": {
      "text/plain": [
       "{'model__alpha': 0.1}"
      ]
     },
     "execution_count": 643,
     "metadata": {},
     "output_type": "execute_result"
    }
   ],
   "source": [
    "search.best_params_"
   ]
  },
  {
   "cell_type": "code",
   "execution_count": 644,
   "id": "499246c6",
   "metadata": {},
   "outputs": [],
   "source": [
    "coefficients = search.best_estimator_.named_steps['model'].coef_\n",
    "importance = np.abs(coefficients)"
   ]
  },
  {
   "cell_type": "code",
   "execution_count": 645,
   "id": "f72a3e39",
   "metadata": {},
   "outputs": [
    {
     "data": {
      "text/plain": [
       "array([0.        , 0.        , 0.        , 0.        , 0.13385794,\n",
       "       0.        , 0.        , 0.        , 0.        , 0.        ,\n",
       "       0.        , 0.        , 0.        , 0.        , 0.        ,\n",
       "       0.        , 0.        , 0.        , 0.        , 0.        ,\n",
       "       0.        , 0.        , 0.        , 0.        , 0.        ,\n",
       "       0.        , 0.        , 0.        , 0.        , 0.        ,\n",
       "       0.        , 0.        , 0.        , 0.        , 0.        ,\n",
       "       0.        , 0.        , 0.        , 0.        , 0.        ,\n",
       "       0.        , 0.        , 0.        , 0.        , 0.        ,\n",
       "       0.        , 0.        , 0.        , 0.        , 0.        ,\n",
       "       0.        , 0.        , 0.        , 0.        , 0.        ,\n",
       "       0.        , 0.        , 0.        , 0.        , 0.        ,\n",
       "       0.        , 0.        , 0.        , 0.        , 0.        ,\n",
       "       0.        , 0.        , 0.        , 0.        , 0.        ,\n",
       "       0.        , 0.        , 0.        , 0.        , 0.        ,\n",
       "       0.        , 0.        , 0.        , 0.        , 0.        ,\n",
       "       0.        , 0.        , 0.        , 0.        , 0.        ,\n",
       "       0.        , 0.        , 0.        , 0.        , 0.        ,\n",
       "       0.        , 0.        , 0.        , 0.        , 0.        ,\n",
       "       0.        , 0.        , 0.        , 0.        , 0.        ,\n",
       "       0.        , 0.        , 0.        , 0.        , 0.        ,\n",
       "       0.        , 0.        , 0.        , 0.        , 0.        ,\n",
       "       0.        , 0.        , 0.        , 0.        , 0.        ,\n",
       "       0.        , 0.        , 0.        , 0.        , 0.        ,\n",
       "       0.        , 0.        , 0.        , 0.        , 0.        ,\n",
       "       0.        , 0.        , 0.        , 0.        , 0.        ,\n",
       "       0.        , 0.        , 0.        , 0.        , 0.        ,\n",
       "       0.        , 0.        , 0.        , 0.        , 0.        ,\n",
       "       0.        , 0.        , 0.        , 0.        , 0.        ,\n",
       "       0.        , 0.        , 0.        , 0.        , 0.        ,\n",
       "       0.        , 0.        , 0.        , 0.        , 0.        ,\n",
       "       0.        , 0.        , 0.        , 0.        , 0.        ,\n",
       "       0.        , 0.        , 0.        , 0.        , 0.        ,\n",
       "       0.        , 0.        , 0.        , 0.        , 0.        ,\n",
       "       0.        , 0.        , 0.        , 0.        , 0.        ,\n",
       "       0.        , 0.        , 0.        , 0.        , 0.        ,\n",
       "       0.        , 0.        , 0.        , 0.        , 0.        ,\n",
       "       0.        , 0.14119319, 0.        , 0.        , 0.        ,\n",
       "       0.        , 0.        , 0.        , 0.        , 0.        ,\n",
       "       0.        , 0.02793778, 0.        , 0.        , 0.        ,\n",
       "       0.        , 0.        , 0.        , 0.        ])"
      ]
     },
     "execution_count": 645,
     "metadata": {},
     "output_type": "execute_result"
    }
   ],
   "source": [
    "importance"
   ]
  },
  {
   "cell_type": "code",
   "execution_count": 665,
   "id": "25949388",
   "metadata": {},
   "outputs": [
    {
     "data": {
      "text/plain": [
       "array(['hits', 'country_United States', 'source_mallgoogleplexcom'],\n",
       "      dtype=object)"
      ]
     },
     "execution_count": 665,
     "metadata": {},
     "output_type": "execute_result"
    }
   ],
   "source": [
    "np.array(features_dummies.columns)[importance > 0]"
   ]
  },
  {
   "cell_type": "code",
   "execution_count": 686,
   "id": "25c52c90",
   "metadata": {},
   "outputs": [
    {
     "data": {
      "text/plain": [
       "array(['fullVisitorId', 'visitId', 'visitNumber', 'visitStartTime',\n",
       "       'hits', 'weekday', 'year', 'visitHour',\n",
       "       'channelGrouping_Organic Search', 'channelGrouping_Referral',\n",
       "       'channelGrouping_Social', 'browser_Chrome', 'browser_Safari',\n",
       "       'operatingSystem_Macintosh', 'operatingSystem_Windows',\n",
       "       'isMobile_ true ', 'country_United States',\n",
       "       'source_mallgoogleplexcom', 'source_youtubecom', 'medium_organic'],\n",
       "      dtype=object)"
      ]
     },
     "execution_count": 686,
     "metadata": {},
     "output_type": "execute_result"
    }
   ],
   "source": [
    "np.array(features_dummies.columns)[rfe.support_ == True]"
   ]
  },
  {
   "cell_type": "code",
   "execution_count": 694,
   "id": "c38d5521",
   "metadata": {},
   "outputs": [],
   "source": [
    "logit_cols = features_dummies[['hits', 'country_United States', 'source_mallgoogleplexcom']]\n",
    "X_train, X_test, y_train, y_test = train_test_split(logit_cols, target, test_size=0.2, random_state=42)\n",
    "logreg = LogisticRegression()\n",
    "logreg.fit(X_train,y_train)\n",
    "y_pred=logreg.predict(X_test)"
   ]
  },
  {
   "cell_type": "code",
   "execution_count": 697,
   "id": "fae18727",
   "metadata": {},
   "outputs": [
    {
     "data": {
      "text/plain": [
       "array([[2164,  131],\n",
       "       [ 122, 2189]], dtype=int64)"
      ]
     },
     "execution_count": 697,
     "metadata": {},
     "output_type": "execute_result"
    }
   ],
   "source": [
    "cnf_matrix = metrics.confusion_matrix(y_test, y_pred)\n",
    "cnf_matrix"
   ]
  },
  {
   "cell_type": "code",
   "execution_count": 700,
   "id": "f8535fe5",
   "metadata": {},
   "outputs": [
    {
     "data": {
      "text/plain": [
       "Text(0.5, 257.44, 'Predicted label')"
      ]
     },
     "execution_count": 700,
     "metadata": {},
     "output_type": "execute_result"
    },
    {
     "data": {
      "image/png": "[encoded data removed]",
      "text/plain": [
       "<Figure size 432x288 with 2 Axes>"
      ]
     },
     "metadata": {
      "needs_background": "light"
     },
     "output_type": "display_data"
    }
   ],
   "source": [
    "class_names=[0,1] \n",
    "fig, ax = plt.subplots()\n",
    "tick_marks = np.arange(len(class_names))\n",
    "plt.xticks(tick_marks, class_names)\n",
    "plt.yticks(tick_marks, class_names)\n",
    "sns.heatmap(pd.DataFrame(cnf_matrix), annot=True, cmap=\"YlGnBu\" ,fmt='g')\n",
    "ax.xaxis.set_label_position(\"top\")\n",
    "plt.tight_layout()\n",
    "plt.title('Confusion matrix', y=1.1)\n",
    "plt.ylabel('Actual label')\n",
    "plt.xlabel('Predicted label')"
   ]
  },
  {
   "cell_type": "code",
   "execution_count": 696,
   "id": "a430bea0",
   "metadata": {
    "scrolled": true
   },
   "outputs": [
    {
     "name": "stdout",
     "output_type": "stream",
     "text": [
      "Accuracy: 0.9450716456795484\n",
      "Precision: 0.9435344827586207\n",
      "Recall: 0.9472090004327132\n"
     ]
    }
   ],
   "source": [
    "print(\"Accuracy:\",metrics.accuracy_score(y_test, y_pred))\n",
    "print(\"Precision:\",metrics.precision_score(y_test, y_pred))\n",
    "print(\"Recall:\",metrics.recall_score(y_test, y_pred))"
   ]
  },
  {
   "cell_type": "code",
   "execution_count": 698,
   "id": "23240413",
   "metadata": {},
   "outputs": [
    {
     "data": {
      "image/png": "[encoded data removed]",
      "text/plain": [
       "<Figure size 432x288 with 1 Axes>"
      ]
     },
     "metadata": {
      "needs_background": "light"
     },
     "output_type": "display_data"
    }
   ],
   "source": [
    "y_pred_proba = logreg.predict_proba(X_test)[::,1]\n",
    "fpr, tpr, _ = metrics.roc_curve(y_test,  y_pred_proba)\n",
    "auc = metrics.roc_auc_score(y_test, y_pred_proba)\n",
    "plt.plot(fpr,tpr,label=\"data 1, auc=\"+str(auc))\n",
    "plt.legend(loc=4)\n",
    "plt.show()"
   ]
  },
  {
   "cell_type": "markdown",
   "id": "f5ccb6a1",
   "metadata": {},
   "source": [
    "## Linear Regression"
   ]
  },
  {
   "cell_type": "code",
   "execution_count": 717,
   "id": "3d0d99e4",
   "metadata": {},
   "outputs": [],
   "source": [
    "features_ = df[df['transactionRevenue']>0]\n",
    "features_reg_dummies = pd.get_dummies(features_, drop_first = True)\n",
    "features_reg = features_reg_dummies[['hits', 'country_United States', 'source_mallgoogleplexcom']]\n",
    "target_reg = features_reg_dummies[\"transactionRevenue\"]\n",
    "X_train, X_test, y_train, y_test = train_test_split(features_reg, target_reg, test_size=0.2, random_state=42)"
   ]
  },
  {
   "cell_type": "code",
   "execution_count": 719,
   "id": "4fa90288",
   "metadata": {},
   "outputs": [
    {
     "name": "stdout",
     "output_type": "stream",
     "text": [
      "65874485.85191129\n",
      "[  1947329.29986939   -106392.27245829 -13456356.36621013]\n"
     ]
    },
    {
     "data": {
      "text/plain": [
       "array([1.16398655e+08, 1.88449839e+08, 1.82607852e+08, ...,\n",
       "       1.16398655e+08, 1.82607852e+08, 9.71003111e+07])"
      ]
     },
     "execution_count": 719,
     "metadata": {},
     "output_type": "execute_result"
    }
   ],
   "source": [
    "LR = LinearRegression()\n",
    "LR.fit(X_train,y_train)\n",
    "print(LR.intercept_)\n",
    "print(LR.coef_)\n",
    "y_pred = LR.predict(X_test)\n",
    "y_pred"
   ]
  },
  {
   "cell_type": "code",
   "execution_count": 720,
   "id": "b6ace6c3",
   "metadata": {},
   "outputs": [
    {
     "data": {
      "text/html": [
       "<div>\n",
       "<style scoped>\n",
       "    .dataframe tbody tr th:only-of-type {\n",
       "        vertical-align: middle;\n",
       "    }\n",
       "\n",
       "    .dataframe tbody tr th {\n",
       "        vertical-align: top;\n",
       "    }\n",
       "\n",
       "    .dataframe thead th {\n",
       "        text-align: right;\n",
       "    }\n",
       "</style>\n",
       "<table border=\"1\" class=\"dataframe\">\n",
       "  <thead>\n",
       "    <tr style=\"text-align: right;\">\n",
       "      <th></th>\n",
       "      <th>Actual</th>\n",
       "      <th>Predicted</th>\n",
       "    </tr>\n",
       "  </thead>\n",
       "  <tbody>\n",
       "    <tr>\n",
       "      <th>11137</th>\n",
       "      <td>2.658000e+07</td>\n",
       "      <td>1.163987e+08</td>\n",
       "    </tr>\n",
       "    <tr>\n",
       "      <th>3995</th>\n",
       "      <td>1.012190e+09</td>\n",
       "      <td>1.884498e+08</td>\n",
       "    </tr>\n",
       "    <tr>\n",
       "      <th>5795</th>\n",
       "      <td>9.229400e+08</td>\n",
       "      <td>1.826079e+08</td>\n",
       "    </tr>\n",
       "    <tr>\n",
       "      <th>18300</th>\n",
       "      <td>8.114000e+07</td>\n",
       "      <td>9.904764e+07</td>\n",
       "    </tr>\n",
       "    <tr>\n",
       "      <th>8253</th>\n",
       "      <td>1.899000e+07</td>\n",
       "      <td>1.358719e+08</td>\n",
       "    </tr>\n",
       "    <tr>\n",
       "      <th>...</th>\n",
       "      <td>...</td>\n",
       "      <td>...</td>\n",
       "    </tr>\n",
       "    <tr>\n",
       "      <th>1631</th>\n",
       "      <td>7.271600e+08</td>\n",
       "      <td>2.643957e+08</td>\n",
       "    </tr>\n",
       "    <tr>\n",
       "      <th>13958</th>\n",
       "      <td>3.794000e+07</td>\n",
       "      <td>1.009950e+08</td>\n",
       "    </tr>\n",
       "    <tr>\n",
       "      <th>2382</th>\n",
       "      <td>1.099000e+07</td>\n",
       "      <td>1.163987e+08</td>\n",
       "    </tr>\n",
       "    <tr>\n",
       "      <th>3088</th>\n",
       "      <td>3.359000e+07</td>\n",
       "      <td>1.826079e+08</td>\n",
       "    </tr>\n",
       "    <tr>\n",
       "      <th>18981</th>\n",
       "      <td>3.278000e+07</td>\n",
       "      <td>9.710031e+07</td>\n",
       "    </tr>\n",
       "  </tbody>\n",
       "</table>\n",
       "<p>2303 rows × 2 columns</p>\n",
       "</div>"
      ],
      "text/plain": [
       "             Actual     Predicted\n",
       "11137  2.658000e+07  1.163987e+08\n",
       "3995   1.012190e+09  1.884498e+08\n",
       "5795   9.229400e+08  1.826079e+08\n",
       "18300  8.114000e+07  9.904764e+07\n",
       "8253   1.899000e+07  1.358719e+08\n",
       "...             ...           ...\n",
       "1631   7.271600e+08  2.643957e+08\n",
       "13958  3.794000e+07  1.009950e+08\n",
       "2382   1.099000e+07  1.163987e+08\n",
       "3088   3.359000e+07  1.826079e+08\n",
       "18981  3.278000e+07  9.710031e+07\n",
       "\n",
       "[2303 rows x 2 columns]"
      ]
     },
     "execution_count": 720,
     "metadata": {},
     "output_type": "execute_result"
    }
   ],
   "source": [
    "prediction = pd.DataFrame({'Actual': y_test, 'Predicted': y_pred})\n",
    "prediction"
   ]
  },
  {
   "cell_type": "code",
   "execution_count": null,
   "id": "d6d5d1c6",
   "metadata": {},
   "outputs": [],
   "source": []
  },
  {
   "cell_type": "code",
   "execution_count": null,
   "id": "ea3e57eb",
   "metadata": {},
   "outputs": [],
   "source": []
  },
  {
   "cell_type": "code",
   "execution_count": null,
   "id": "9b2a4bc5",
   "metadata": {},
   "outputs": [],
   "source": []
  },
  {
   "cell_type": "code",
   "execution_count": null,
   "id": "f9696a44",
   "metadata": {},
   "outputs": [],
   "source": []
  }
 ],
 "metadata": {
  "kernelspec": {
   "display_name": "Python 3",
   "language": "python",
   "name": "python3"
  },
  "language_info": {
   "codemirror_mode": {
    "name": "ipython",
    "version": 3
   },
   "file_extension": ".py",
   "mimetype": "text/x-python",
   "name": "python",
   "nbconvert_exporter": "python",
   "pygments_lexer": "ipython3",
   "version": "3.8.8"
  }
 },
 "nbformat": 4,
 "nbformat_minor": 5
}
